{
 "cells": [
  {
   "cell_type": "raw",
   "metadata": {},
   "source": [
    "import sys\n",
    "!{sys.executable} -m pip install pandarallel"
   ]
  },
  {
   "source": [
    "## Initial Imports"
   ],
   "cell_type": "markdown",
   "metadata": {}
  },
  {
   "cell_type": "code",
   "execution_count": 40,
   "metadata": {},
   "outputs": [],
   "source": [
    "import pandas as pd\n",
    "import datetime\n",
    "import numpy as np\n",
    "pd.set_option('display.max_rows', 500)\n",
    "pd.set_option('display.max_columns',None)"
   ]
  },
  {
   "source": [
    "## Imports"
   ],
   "cell_type": "markdown",
   "metadata": {}
  },
  {
   "cell_type": "code",
   "execution_count": 15,
   "metadata": {},
   "outputs": [],
   "source": [
    "names=['id','created_at','destroyed_at']\n",
    "servers = pd.read_csv('Data/servers.csv',names=names)\n",
    "names = ['timestamp','device_id', 'user_id','server_id','connected']\n",
    "events = pd.read_csv('Data/connectivity_events.csv',names=names)"
   ]
  },
  {
   "cell_type": "code",
   "execution_count": 16,
   "metadata": {},
   "outputs": [
    {
     "output_type": "execute_result",
     "data": {
      "text/plain": [
       "(188, 3)"
      ]
     },
     "metadata": {},
     "execution_count": 16
    }
   ],
   "source": [
    "servers.shape"
   ]
  },
  {
   "cell_type": "code",
   "execution_count": 17,
   "metadata": {},
   "outputs": [
    {
     "output_type": "execute_result",
     "data": {
      "text/plain": [
       "(9308207, 5)"
      ]
     },
     "metadata": {},
     "execution_count": 17
    }
   ],
   "source": [
    "events.shape"
   ]
  },
  {
   "cell_type": "code",
   "execution_count": 18,
   "metadata": {},
   "outputs": [
    {
     "output_type": "stream",
     "name": "stdout",
     "text": [
      "CPU times: user 667 ms, sys: 535 ms, total: 1.2 s\nWall time: 1.21 s\n"
     ]
    },
    {
     "output_type": "execute_result",
     "data": {
      "text/plain": [
       "(9308207, 8)"
      ]
     },
     "metadata": {},
     "execution_count": 18
    }
   ],
   "source": [
    "%%time\n",
    "combined_df = events.merge(servers,left_on='server_id',right_on='id')\n",
    "combined_df.shape"
   ]
  },
  {
   "cell_type": "code",
   "execution_count": 8,
   "metadata": {},
   "outputs": [
    {
     "output_type": "execute_result",
     "data": {
      "text/plain": [
       "             timestamp  device_id  user_id  server_id  connected  id  \\\n",
       "0  2015-05-31 14:30:00        100        4          2       True   2   \n",
       "1  2015-05-31 14:30:00        101        1          2       True   2   \n",
       "2  2015-05-31 14:30:00        102        1          2       True   2   \n",
       "3  2015-05-31 14:30:00        103       26          2       True   2   \n",
       "4  2015-05-31 14:30:00        104        1          2       True   2   \n",
       "\n",
       "                   created_at             destroyed_at  \n",
       "0  2015-05-31 14:30:00.000000  2017-08-03 22:42:57.929  \n",
       "1  2015-05-31 14:30:00.000000  2017-08-03 22:42:57.929  \n",
       "2  2015-05-31 14:30:00.000000  2017-08-03 22:42:57.929  \n",
       "3  2015-05-31 14:30:00.000000  2017-08-03 22:42:57.929  \n",
       "4  2015-05-31 14:30:00.000000  2017-08-03 22:42:57.929  "
      ],
      "text/html": "<div>\n<style scoped>\n    .dataframe tbody tr th:only-of-type {\n        vertical-align: middle;\n    }\n\n    .dataframe tbody tr th {\n        vertical-align: top;\n    }\n\n    .dataframe thead th {\n        text-align: right;\n    }\n</style>\n<table border=\"1\" class=\"dataframe\">\n  <thead>\n    <tr style=\"text-align: right;\">\n      <th></th>\n      <th>timestamp</th>\n      <th>device_id</th>\n      <th>user_id</th>\n      <th>server_id</th>\n      <th>connected</th>\n      <th>id</th>\n      <th>created_at</th>\n      <th>destroyed_at</th>\n    </tr>\n  </thead>\n  <tbody>\n    <tr>\n      <th>0</th>\n      <td>2015-05-31 14:30:00</td>\n      <td>100</td>\n      <td>4</td>\n      <td>2</td>\n      <td>True</td>\n      <td>2</td>\n      <td>2015-05-31 14:30:00.000000</td>\n      <td>2017-08-03 22:42:57.929</td>\n    </tr>\n    <tr>\n      <th>1</th>\n      <td>2015-05-31 14:30:00</td>\n      <td>101</td>\n      <td>1</td>\n      <td>2</td>\n      <td>True</td>\n      <td>2</td>\n      <td>2015-05-31 14:30:00.000000</td>\n      <td>2017-08-03 22:42:57.929</td>\n    </tr>\n    <tr>\n      <th>2</th>\n      <td>2015-05-31 14:30:00</td>\n      <td>102</td>\n      <td>1</td>\n      <td>2</td>\n      <td>True</td>\n      <td>2</td>\n      <td>2015-05-31 14:30:00.000000</td>\n      <td>2017-08-03 22:42:57.929</td>\n    </tr>\n    <tr>\n      <th>3</th>\n      <td>2015-05-31 14:30:00</td>\n      <td>103</td>\n      <td>26</td>\n      <td>2</td>\n      <td>True</td>\n      <td>2</td>\n      <td>2015-05-31 14:30:00.000000</td>\n      <td>2017-08-03 22:42:57.929</td>\n    </tr>\n    <tr>\n      <th>4</th>\n      <td>2015-05-31 14:30:00</td>\n      <td>104</td>\n      <td>1</td>\n      <td>2</td>\n      <td>True</td>\n      <td>2</td>\n      <td>2015-05-31 14:30:00.000000</td>\n      <td>2017-08-03 22:42:57.929</td>\n    </tr>\n  </tbody>\n</table>\n</div>"
     },
     "metadata": {},
     "execution_count": 8
    }
   ],
   "source": [
    "combined_df.head()"
   ]
  },
  {
   "cell_type": "code",
   "execution_count": 13,
   "metadata": {},
   "outputs": [
    {
     "output_type": "execute_result",
     "data": {
      "text/plain": [
       "                 timestamp  device_id  user_id  server_id  connected  id  \\\n",
       "0      2015-05-31 14:30:00        100        4          2       True   2   \n",
       "856    2015-06-02 10:30:00        100        4          2      False   2   \n",
       "1266   2015-06-03 11:30:00        100        4          2       True   2   \n",
       "1517   2015-06-04 03:30:00        100        4          2      False   2   \n",
       "1657   2015-06-04 13:30:00        100        4          2       True   2   \n",
       "...                    ...        ...      ...        ...        ...  ..   \n",
       "37695  2016-01-20 02:30:00        100        4          2      False   2   \n",
       "37740  2016-01-20 09:30:00        100        4          2       True   2   \n",
       "37766  2016-01-20 12:30:00        100        4          2      False   2   \n",
       "37829  2016-01-20 19:30:00        100        4          2       True   2   \n",
       "38290  2016-01-23 13:30:00        100        4          2      False   2   \n",
       "\n",
       "                       created_at             destroyed_at  connection_id  \n",
       "0      2015-05-31 14:30:00.000000  2017-08-03 22:42:57.929              1  \n",
       "856    2015-05-31 14:30:00.000000  2017-08-03 22:42:57.929              2  \n",
       "1266   2015-05-31 14:30:00.000000  2017-08-03 22:42:57.929              3  \n",
       "1517   2015-05-31 14:30:00.000000  2017-08-03 22:42:57.929              4  \n",
       "1657   2015-05-31 14:30:00.000000  2017-08-03 22:42:57.929              5  \n",
       "...                           ...                      ...            ...  \n",
       "37695  2015-05-31 14:30:00.000000  2017-08-03 22:42:57.929            334  \n",
       "37740  2015-05-31 14:30:00.000000  2017-08-03 22:42:57.929            335  \n",
       "37766  2015-05-31 14:30:00.000000  2017-08-03 22:42:57.929            336  \n",
       "37829  2015-05-31 14:30:00.000000  2017-08-03 22:42:57.929            337  \n",
       "38290  2015-05-31 14:30:00.000000  2017-08-03 22:42:57.929            338  \n",
       "\n",
       "[338 rows x 9 columns]"
      ],
      "text/html": "<div>\n<style scoped>\n    .dataframe tbody tr th:only-of-type {\n        vertical-align: middle;\n    }\n\n    .dataframe tbody tr th {\n        vertical-align: top;\n    }\n\n    .dataframe thead th {\n        text-align: right;\n    }\n</style>\n<table border=\"1\" class=\"dataframe\">\n  <thead>\n    <tr style=\"text-align: right;\">\n      <th></th>\n      <th>timestamp</th>\n      <th>device_id</th>\n      <th>user_id</th>\n      <th>server_id</th>\n      <th>connected</th>\n      <th>id</th>\n      <th>created_at</th>\n      <th>destroyed_at</th>\n      <th>connection_id</th>\n    </tr>\n  </thead>\n  <tbody>\n    <tr>\n      <th>0</th>\n      <td>2015-05-31 14:30:00</td>\n      <td>100</td>\n      <td>4</td>\n      <td>2</td>\n      <td>True</td>\n      <td>2</td>\n      <td>2015-05-31 14:30:00.000000</td>\n      <td>2017-08-03 22:42:57.929</td>\n      <td>1</td>\n    </tr>\n    <tr>\n      <th>856</th>\n      <td>2015-06-02 10:30:00</td>\n      <td>100</td>\n      <td>4</td>\n      <td>2</td>\n      <td>False</td>\n      <td>2</td>\n      <td>2015-05-31 14:30:00.000000</td>\n      <td>2017-08-03 22:42:57.929</td>\n      <td>2</td>\n    </tr>\n    <tr>\n      <th>1266</th>\n      <td>2015-06-03 11:30:00</td>\n      <td>100</td>\n      <td>4</td>\n      <td>2</td>\n      <td>True</td>\n      <td>2</td>\n      <td>2015-05-31 14:30:00.000000</td>\n      <td>2017-08-03 22:42:57.929</td>\n      <td>3</td>\n    </tr>\n    <tr>\n      <th>1517</th>\n      <td>2015-06-04 03:30:00</td>\n      <td>100</td>\n      <td>4</td>\n      <td>2</td>\n      <td>False</td>\n      <td>2</td>\n      <td>2015-05-31 14:30:00.000000</td>\n      <td>2017-08-03 22:42:57.929</td>\n      <td>4</td>\n    </tr>\n    <tr>\n      <th>1657</th>\n      <td>2015-06-04 13:30:00</td>\n      <td>100</td>\n      <td>4</td>\n      <td>2</td>\n      <td>True</td>\n      <td>2</td>\n      <td>2015-05-31 14:30:00.000000</td>\n      <td>2017-08-03 22:42:57.929</td>\n      <td>5</td>\n    </tr>\n    <tr>\n      <th>...</th>\n      <td>...</td>\n      <td>...</td>\n      <td>...</td>\n      <td>...</td>\n      <td>...</td>\n      <td>...</td>\n      <td>...</td>\n      <td>...</td>\n      <td>...</td>\n    </tr>\n    <tr>\n      <th>37695</th>\n      <td>2016-01-20 02:30:00</td>\n      <td>100</td>\n      <td>4</td>\n      <td>2</td>\n      <td>False</td>\n      <td>2</td>\n      <td>2015-05-31 14:30:00.000000</td>\n      <td>2017-08-03 22:42:57.929</td>\n      <td>334</td>\n    </tr>\n    <tr>\n      <th>37740</th>\n      <td>2016-01-20 09:30:00</td>\n      <td>100</td>\n      <td>4</td>\n      <td>2</td>\n      <td>True</td>\n      <td>2</td>\n      <td>2015-05-31 14:30:00.000000</td>\n      <td>2017-08-03 22:42:57.929</td>\n      <td>335</td>\n    </tr>\n    <tr>\n      <th>37766</th>\n      <td>2016-01-20 12:30:00</td>\n      <td>100</td>\n      <td>4</td>\n      <td>2</td>\n      <td>False</td>\n      <td>2</td>\n      <td>2015-05-31 14:30:00.000000</td>\n      <td>2017-08-03 22:42:57.929</td>\n      <td>336</td>\n    </tr>\n    <tr>\n      <th>37829</th>\n      <td>2016-01-20 19:30:00</td>\n      <td>100</td>\n      <td>4</td>\n      <td>2</td>\n      <td>True</td>\n      <td>2</td>\n      <td>2015-05-31 14:30:00.000000</td>\n      <td>2017-08-03 22:42:57.929</td>\n      <td>337</td>\n    </tr>\n    <tr>\n      <th>38290</th>\n      <td>2016-01-23 13:30:00</td>\n      <td>100</td>\n      <td>4</td>\n      <td>2</td>\n      <td>False</td>\n      <td>2</td>\n      <td>2015-05-31 14:30:00.000000</td>\n      <td>2017-08-03 22:42:57.929</td>\n      <td>338</td>\n    </tr>\n  </tbody>\n</table>\n<p>338 rows × 9 columns</p>\n</div>"
     },
     "metadata": {},
     "execution_count": 13
    }
   ],
   "source": [
    "combined_df['connection_id'] = combined_df.sort_values(['timestamp']).groupby(['device_id']).cumcount()+1\n",
    "combined_df[combined_df['device_id'] == 100].sort_values(['connection_id'])"
   ]
  },
  {
   "cell_type": "code",
   "execution_count": 26,
   "metadata": {},
   "outputs": [],
   "source": [
    "def prev_server(df):\n",
    "    \"\"\"\n",
    "    calculate previous server connection's data: previous server id, previous connected status and previous timestamp\n",
    "    \"\"\"\n",
    "    df['prev_server_id']=(df.sort_values(['timestamp'], ascending=True)\n",
    "                               .groupby(['device_id'])['server_id'].shift(-1))\n",
    "    df['prev_connected']=(df.sort_values(['timestamp'], ascending=True)\n",
    "                             .groupby(['device_id'])['connected'].shift(-1)).astype(bool)\n",
    "    df['prev_timestamp']=(df.sort_values(['timestamp'], ascending=True)\n",
    "                                             .groupby(['device_id'])['timestamp'].shift(-1))\n",
    "    df['ignored']=False\n",
    "\n",
    "def mark_ignored_row(row):\n",
    "    \"\"\"\n",
    "    function to mark rows as ignored, cases:\n",
    "    1. X offline -> X offline\n",
    "    2. X offline -> Y offline\n",
    "    \"\"\"\n",
    "    return row['connected']==False and row['prev_connected']==False\n",
    "\n",
    "    \n",
    "def process_dataframe(df):\n",
    "    df['ignored'] = df.apply(lambda row: prepare_final(row), axis=1)"
   ]
  },
  {
   "cell_type": "code",
   "execution_count": 8,
   "metadata": {},
   "outputs": [
    {
     "data": {
      "text/plain": [
       "9308207"
      ]
     },
     "execution_count": 8,
     "metadata": {},
     "output_type": "execute_result"
    }
   ],
   "source": [
    "events_merged=events.merge(servers,left_on='server_id',right_on='id')\n",
    "events_merged.shape[0]"
   ]
  },
  {
   "cell_type": "code",
   "execution_count": 21,
   "metadata": {},
   "outputs": [
    {
     "output_type": "stream",
     "name": "stdout",
     "text": [
      "20.6 s ± 515 ms per loop (mean ± std. dev. of 7 runs, 1 loop each)\n"
     ]
    }
   ],
   "source": [
    "%%timeit\n",
    "prev_server(combined_df)"
   ]
  },
  {
   "cell_type": "code",
   "execution_count": 22,
   "metadata": {},
   "outputs": [
    {
     "output_type": "execute_result",
     "data": {
      "text/plain": [
       "             timestamp  device_id  user_id  server_id  connected  id  \\\n",
       "0  2015-05-31 14:30:00        100        4          2       True   2   \n",
       "1  2015-05-31 14:30:00        101        1          2       True   2   \n",
       "2  2015-05-31 14:30:00        102        1          2       True   2   \n",
       "3  2015-05-31 14:30:00        103       26          2       True   2   \n",
       "4  2015-05-31 14:30:00        104        1          2       True   2   \n",
       "\n",
       "                   created_at             destroyed_at  prev_server_id  \\\n",
       "0  2015-05-31 14:30:00.000000  2017-08-03 22:42:57.929             2.0   \n",
       "1  2015-05-31 14:30:00.000000  2017-08-03 22:42:57.929             2.0   \n",
       "2  2015-05-31 14:30:00.000000  2017-08-03 22:42:57.929             2.0   \n",
       "3  2015-05-31 14:30:00.000000  2017-08-03 22:42:57.929             2.0   \n",
       "4  2015-05-31 14:30:00.000000  2017-08-03 22:42:57.929             2.0   \n",
       "\n",
       "   prev_connected       prev_timestamp  ignored  \n",
       "0           False  2015-06-02 10:30:00    False  \n",
       "1           False  2015-05-31 18:30:00    False  \n",
       "2           False  2015-05-31 19:30:00    False  \n",
       "3           False  2015-06-01 02:30:00    False  \n",
       "4           False  2015-06-06 02:30:00    False  "
      ],
      "text/html": "<div>\n<style scoped>\n    .dataframe tbody tr th:only-of-type {\n        vertical-align: middle;\n    }\n\n    .dataframe tbody tr th {\n        vertical-align: top;\n    }\n\n    .dataframe thead th {\n        text-align: right;\n    }\n</style>\n<table border=\"1\" class=\"dataframe\">\n  <thead>\n    <tr style=\"text-align: right;\">\n      <th></th>\n      <th>timestamp</th>\n      <th>device_id</th>\n      <th>user_id</th>\n      <th>server_id</th>\n      <th>connected</th>\n      <th>id</th>\n      <th>created_at</th>\n      <th>destroyed_at</th>\n      <th>prev_server_id</th>\n      <th>prev_connected</th>\n      <th>prev_timestamp</th>\n      <th>ignored</th>\n    </tr>\n  </thead>\n  <tbody>\n    <tr>\n      <th>0</th>\n      <td>2015-05-31 14:30:00</td>\n      <td>100</td>\n      <td>4</td>\n      <td>2</td>\n      <td>True</td>\n      <td>2</td>\n      <td>2015-05-31 14:30:00.000000</td>\n      <td>2017-08-03 22:42:57.929</td>\n      <td>2.0</td>\n      <td>False</td>\n      <td>2015-06-02 10:30:00</td>\n      <td>False</td>\n    </tr>\n    <tr>\n      <th>1</th>\n      <td>2015-05-31 14:30:00</td>\n      <td>101</td>\n      <td>1</td>\n      <td>2</td>\n      <td>True</td>\n      <td>2</td>\n      <td>2015-05-31 14:30:00.000000</td>\n      <td>2017-08-03 22:42:57.929</td>\n      <td>2.0</td>\n      <td>False</td>\n      <td>2015-05-31 18:30:00</td>\n      <td>False</td>\n    </tr>\n    <tr>\n      <th>2</th>\n      <td>2015-05-31 14:30:00</td>\n      <td>102</td>\n      <td>1</td>\n      <td>2</td>\n      <td>True</td>\n      <td>2</td>\n      <td>2015-05-31 14:30:00.000000</td>\n      <td>2017-08-03 22:42:57.929</td>\n      <td>2.0</td>\n      <td>False</td>\n      <td>2015-05-31 19:30:00</td>\n      <td>False</td>\n    </tr>\n    <tr>\n      <th>3</th>\n      <td>2015-05-31 14:30:00</td>\n      <td>103</td>\n      <td>26</td>\n      <td>2</td>\n      <td>True</td>\n      <td>2</td>\n      <td>2015-05-31 14:30:00.000000</td>\n      <td>2017-08-03 22:42:57.929</td>\n      <td>2.0</td>\n      <td>False</td>\n      <td>2015-06-01 02:30:00</td>\n      <td>False</td>\n    </tr>\n    <tr>\n      <th>4</th>\n      <td>2015-05-31 14:30:00</td>\n      <td>104</td>\n      <td>1</td>\n      <td>2</td>\n      <td>True</td>\n      <td>2</td>\n      <td>2015-05-31 14:30:00.000000</td>\n      <td>2017-08-03 22:42:57.929</td>\n      <td>2.0</td>\n      <td>False</td>\n      <td>2015-06-06 02:30:00</td>\n      <td>False</td>\n    </tr>\n  </tbody>\n</table>\n</div>"
     },
     "metadata": {},
     "execution_count": 22
    }
   ],
   "source": [
    "combined_df.head()"
   ]
  },
  {
   "cell_type": "code",
   "execution_count": 32,
   "metadata": {},
   "outputs": [
    {
     "output_type": "stream",
     "name": "stdout",
     "text": [
      "2min 57s ± 28.6 s per loop (mean ± std. dev. of 7 runs, 1 loop each)\n"
     ]
    }
   ],
   "source": [
    "%%timeit\n",
    "combined_df['ignored'] = combined_df.apply(mark_ignored_row, axis=1)"
   ]
  },
  {
   "cell_type": "code",
   "execution_count": 33,
   "metadata": {},
   "outputs": [
    {
     "output_type": "execute_result",
     "data": {
      "text/plain": [
       "                       timestamp  device_id  user_id  server_id  connected  \\\n",
       "260729       2017-06-19 22:30:00      17263     2035          2      False   \n",
       "288034       2017-07-19 11:30:00      22711     3072          2      False   \n",
       "289519       2017-07-20 18:30:00      17175      563          2      False   \n",
       "289520       2017-07-20 18:30:00      17185      563          2      False   \n",
       "289521       2017-07-20 18:30:00      17190      563          2      False   \n",
       "...                          ...        ...      ...        ...        ...   \n",
       "9094981  2018-02-22 23:58:50.043      52997      540         32      False   \n",
       "9095052  2018-02-23 00:01:46.545       6773      119         32      False   \n",
       "9095124  2018-02-23 00:04:48.916      20872     2518         32      False   \n",
       "9095181    2018-02-23 00:06:57.2      20872     2518         32      False   \n",
       "9204748  2018-02-26 16:31:38.778      51316     3017         33      False   \n",
       "\n",
       "         id                  created_at             destroyed_at  \\\n",
       "260729    2  2015-05-31 14:30:00.000000  2017-08-03 22:42:57.929   \n",
       "288034    2  2015-05-31 14:30:00.000000  2017-08-03 22:42:57.929   \n",
       "289519    2  2015-05-31 14:30:00.000000  2017-08-03 22:42:57.929   \n",
       "289520    2  2015-05-31 14:30:00.000000  2017-08-03 22:42:57.929   \n",
       "289521    2  2015-05-31 14:30:00.000000  2017-08-03 22:42:57.929   \n",
       "...      ..                         ...                      ...   \n",
       "9094981  32   2018-02-16 22:42:16.20626  2018-02-26 15:52:07.692   \n",
       "9095052  32   2018-02-16 22:42:16.20626  2018-02-26 15:52:07.692   \n",
       "9095124  32   2018-02-16 22:42:16.20626  2018-02-26 15:52:07.692   \n",
       "9095181  32   2018-02-16 22:42:16.20626  2018-02-26 15:52:07.692   \n",
       "9204748  33  2018-02-26 15:52:13.678326  2018-03-01 18:05:54.051   \n",
       "\n",
       "         prev_server_id  prev_connected           prev_timestamp  ignored  \n",
       "260729              2.0           False  2017-08-03 22:13:49.725     True  \n",
       "288034              2.0           False   2017-08-03 22:12:18.42     True  \n",
       "289519              2.0           False  2017-08-02 23:40:08.182     True  \n",
       "289520              2.0           False  2017-08-02 23:37:40.613     True  \n",
       "289521              2.0           False  2017-08-02 23:37:44.587     True  \n",
       "...                 ...             ...                      ...      ...  \n",
       "9094981            32.0           False  2018-02-22 23:59:21.627     True  \n",
       "9095052            32.0           False  2018-02-23 00:22:32.701     True  \n",
       "9095124            32.0           False   2018-02-23 00:05:56.48     True  \n",
       "9095181            32.0           False  2018-02-23 00:08:04.008     True  \n",
       "9204748            33.0           False   2018-02-27 04:31:33.65     True  \n",
       "\n",
       "[379931 rows x 12 columns]"
      ],
      "text/html": "<div>\n<style scoped>\n    .dataframe tbody tr th:only-of-type {\n        vertical-align: middle;\n    }\n\n    .dataframe tbody tr th {\n        vertical-align: top;\n    }\n\n    .dataframe thead th {\n        text-align: right;\n    }\n</style>\n<table border=\"1\" class=\"dataframe\">\n  <thead>\n    <tr style=\"text-align: right;\">\n      <th></th>\n      <th>timestamp</th>\n      <th>device_id</th>\n      <th>user_id</th>\n      <th>server_id</th>\n      <th>connected</th>\n      <th>id</th>\n      <th>created_at</th>\n      <th>destroyed_at</th>\n      <th>prev_server_id</th>\n      <th>prev_connected</th>\n      <th>prev_timestamp</th>\n      <th>ignored</th>\n    </tr>\n  </thead>\n  <tbody>\n    <tr>\n      <th>260729</th>\n      <td>2017-06-19 22:30:00</td>\n      <td>17263</td>\n      <td>2035</td>\n      <td>2</td>\n      <td>False</td>\n      <td>2</td>\n      <td>2015-05-31 14:30:00.000000</td>\n      <td>2017-08-03 22:42:57.929</td>\n      <td>2.0</td>\n      <td>False</td>\n      <td>2017-08-03 22:13:49.725</td>\n      <td>True</td>\n    </tr>\n    <tr>\n      <th>288034</th>\n      <td>2017-07-19 11:30:00</td>\n      <td>22711</td>\n      <td>3072</td>\n      <td>2</td>\n      <td>False</td>\n      <td>2</td>\n      <td>2015-05-31 14:30:00.000000</td>\n      <td>2017-08-03 22:42:57.929</td>\n      <td>2.0</td>\n      <td>False</td>\n      <td>2017-08-03 22:12:18.42</td>\n      <td>True</td>\n    </tr>\n    <tr>\n      <th>289519</th>\n      <td>2017-07-20 18:30:00</td>\n      <td>17175</td>\n      <td>563</td>\n      <td>2</td>\n      <td>False</td>\n      <td>2</td>\n      <td>2015-05-31 14:30:00.000000</td>\n      <td>2017-08-03 22:42:57.929</td>\n      <td>2.0</td>\n      <td>False</td>\n      <td>2017-08-02 23:40:08.182</td>\n      <td>True</td>\n    </tr>\n    <tr>\n      <th>289520</th>\n      <td>2017-07-20 18:30:00</td>\n      <td>17185</td>\n      <td>563</td>\n      <td>2</td>\n      <td>False</td>\n      <td>2</td>\n      <td>2015-05-31 14:30:00.000000</td>\n      <td>2017-08-03 22:42:57.929</td>\n      <td>2.0</td>\n      <td>False</td>\n      <td>2017-08-02 23:37:40.613</td>\n      <td>True</td>\n    </tr>\n    <tr>\n      <th>289521</th>\n      <td>2017-07-20 18:30:00</td>\n      <td>17190</td>\n      <td>563</td>\n      <td>2</td>\n      <td>False</td>\n      <td>2</td>\n      <td>2015-05-31 14:30:00.000000</td>\n      <td>2017-08-03 22:42:57.929</td>\n      <td>2.0</td>\n      <td>False</td>\n      <td>2017-08-02 23:37:44.587</td>\n      <td>True</td>\n    </tr>\n    <tr>\n      <th>...</th>\n      <td>...</td>\n      <td>...</td>\n      <td>...</td>\n      <td>...</td>\n      <td>...</td>\n      <td>...</td>\n      <td>...</td>\n      <td>...</td>\n      <td>...</td>\n      <td>...</td>\n      <td>...</td>\n      <td>...</td>\n    </tr>\n    <tr>\n      <th>9094981</th>\n      <td>2018-02-22 23:58:50.043</td>\n      <td>52997</td>\n      <td>540</td>\n      <td>32</td>\n      <td>False</td>\n      <td>32</td>\n      <td>2018-02-16 22:42:16.20626</td>\n      <td>2018-02-26 15:52:07.692</td>\n      <td>32.0</td>\n      <td>False</td>\n      <td>2018-02-22 23:59:21.627</td>\n      <td>True</td>\n    </tr>\n    <tr>\n      <th>9095052</th>\n      <td>2018-02-23 00:01:46.545</td>\n      <td>6773</td>\n      <td>119</td>\n      <td>32</td>\n      <td>False</td>\n      <td>32</td>\n      <td>2018-02-16 22:42:16.20626</td>\n      <td>2018-02-26 15:52:07.692</td>\n      <td>32.0</td>\n      <td>False</td>\n      <td>2018-02-23 00:22:32.701</td>\n      <td>True</td>\n    </tr>\n    <tr>\n      <th>9095124</th>\n      <td>2018-02-23 00:04:48.916</td>\n      <td>20872</td>\n      <td>2518</td>\n      <td>32</td>\n      <td>False</td>\n      <td>32</td>\n      <td>2018-02-16 22:42:16.20626</td>\n      <td>2018-02-26 15:52:07.692</td>\n      <td>32.0</td>\n      <td>False</td>\n      <td>2018-02-23 00:05:56.48</td>\n      <td>True</td>\n    </tr>\n    <tr>\n      <th>9095181</th>\n      <td>2018-02-23 00:06:57.2</td>\n      <td>20872</td>\n      <td>2518</td>\n      <td>32</td>\n      <td>False</td>\n      <td>32</td>\n      <td>2018-02-16 22:42:16.20626</td>\n      <td>2018-02-26 15:52:07.692</td>\n      <td>32.0</td>\n      <td>False</td>\n      <td>2018-02-23 00:08:04.008</td>\n      <td>True</td>\n    </tr>\n    <tr>\n      <th>9204748</th>\n      <td>2018-02-26 16:31:38.778</td>\n      <td>51316</td>\n      <td>3017</td>\n      <td>33</td>\n      <td>False</td>\n      <td>33</td>\n      <td>2018-02-26 15:52:13.678326</td>\n      <td>2018-03-01 18:05:54.051</td>\n      <td>33.0</td>\n      <td>False</td>\n      <td>2018-02-27 04:31:33.65</td>\n      <td>True</td>\n    </tr>\n  </tbody>\n</table>\n<p>379931 rows × 12 columns</p>\n</div>"
     },
     "metadata": {},
     "execution_count": 33
    }
   ],
   "source": [
    "combined_df[combined_df['ignored']]"
   ]
  },
  {
   "cell_type": "code",
   "execution_count": 47,
   "metadata": {},
   "outputs": [
    {
     "output_type": "execute_result",
     "data": {
      "text/plain": [
       "device_id\n",
       "9529     723\n",
       "20872    200\n",
       "19014    133\n",
       "19017    127\n",
       "22703    122\n",
       "        ... \n",
       "29455      1\n",
       "17934      1\n",
       "29537      1\n",
       "29687      1\n",
       "52997      1\n",
       "Name: ignored, Length: 7835, dtype: int64"
      ]
     },
     "metadata": {},
     "execution_count": 47
    }
   ],
   "source": [
    "combined_df[combined_df['ignored']].groupby(\"device_id\").count()['ignored'].sort_values(ascending=False)"
   ]
  },
  {
   "cell_type": "code",
   "execution_count": 64,
   "metadata": {},
   "outputs": [],
   "source": [
    "combined_df['timestamp'] = pd.to_datetime(combined_df['timestamp'])"
   ]
  },
  {
   "cell_type": "code",
   "execution_count": 65,
   "metadata": {},
   "outputs": [],
   "source": [
    "combined_df['date'] = combined_df['timestamp'].dt.date"
   ]
  },
  {
   "cell_type": "code",
   "execution_count": 66,
   "metadata": {},
   "outputs": [
    {
     "output_type": "execute_result",
     "data": {
      "text/plain": [
       "            timestamp  device_id  user_id  server_id  connected  id  \\\n",
       "0 2015-05-31 14:30:00        100        4          2       True   2   \n",
       "1 2015-05-31 14:30:00        101        1          2       True   2   \n",
       "2 2015-05-31 14:30:00        102        1          2       True   2   \n",
       "3 2015-05-31 14:30:00        103       26          2       True   2   \n",
       "4 2015-05-31 14:30:00        104        1          2       True   2   \n",
       "\n",
       "                   created_at             destroyed_at  prev_server_id  \\\n",
       "0  2015-05-31 14:30:00.000000  2017-08-03 22:42:57.929             2.0   \n",
       "1  2015-05-31 14:30:00.000000  2017-08-03 22:42:57.929             2.0   \n",
       "2  2015-05-31 14:30:00.000000  2017-08-03 22:42:57.929             2.0   \n",
       "3  2015-05-31 14:30:00.000000  2017-08-03 22:42:57.929             2.0   \n",
       "4  2015-05-31 14:30:00.000000  2017-08-03 22:42:57.929             2.0   \n",
       "\n",
       "   prev_connected       prev_timestamp  ignored        date  \n",
       "0           False  2015-06-02 10:30:00    False  2015-05-31  \n",
       "1           False  2015-05-31 18:30:00    False  2015-05-31  \n",
       "2           False  2015-05-31 19:30:00    False  2015-05-31  \n",
       "3           False  2015-06-01 02:30:00    False  2015-05-31  \n",
       "4           False  2015-06-06 02:30:00    False  2015-05-31  "
      ],
      "text/html": "<div>\n<style scoped>\n    .dataframe tbody tr th:only-of-type {\n        vertical-align: middle;\n    }\n\n    .dataframe tbody tr th {\n        vertical-align: top;\n    }\n\n    .dataframe thead th {\n        text-align: right;\n    }\n</style>\n<table border=\"1\" class=\"dataframe\">\n  <thead>\n    <tr style=\"text-align: right;\">\n      <th></th>\n      <th>timestamp</th>\n      <th>device_id</th>\n      <th>user_id</th>\n      <th>server_id</th>\n      <th>connected</th>\n      <th>id</th>\n      <th>created_at</th>\n      <th>destroyed_at</th>\n      <th>prev_server_id</th>\n      <th>prev_connected</th>\n      <th>prev_timestamp</th>\n      <th>ignored</th>\n      <th>date</th>\n    </tr>\n  </thead>\n  <tbody>\n    <tr>\n      <th>0</th>\n      <td>2015-05-31 14:30:00</td>\n      <td>100</td>\n      <td>4</td>\n      <td>2</td>\n      <td>True</td>\n      <td>2</td>\n      <td>2015-05-31 14:30:00.000000</td>\n      <td>2017-08-03 22:42:57.929</td>\n      <td>2.0</td>\n      <td>False</td>\n      <td>2015-06-02 10:30:00</td>\n      <td>False</td>\n      <td>2015-05-31</td>\n    </tr>\n    <tr>\n      <th>1</th>\n      <td>2015-05-31 14:30:00</td>\n      <td>101</td>\n      <td>1</td>\n      <td>2</td>\n      <td>True</td>\n      <td>2</td>\n      <td>2015-05-31 14:30:00.000000</td>\n      <td>2017-08-03 22:42:57.929</td>\n      <td>2.0</td>\n      <td>False</td>\n      <td>2015-05-31 18:30:00</td>\n      <td>False</td>\n      <td>2015-05-31</td>\n    </tr>\n    <tr>\n      <th>2</th>\n      <td>2015-05-31 14:30:00</td>\n      <td>102</td>\n      <td>1</td>\n      <td>2</td>\n      <td>True</td>\n      <td>2</td>\n      <td>2015-05-31 14:30:00.000000</td>\n      <td>2017-08-03 22:42:57.929</td>\n      <td>2.0</td>\n      <td>False</td>\n      <td>2015-05-31 19:30:00</td>\n      <td>False</td>\n      <td>2015-05-31</td>\n    </tr>\n    <tr>\n      <th>3</th>\n      <td>2015-05-31 14:30:00</td>\n      <td>103</td>\n      <td>26</td>\n      <td>2</td>\n      <td>True</td>\n      <td>2</td>\n      <td>2015-05-31 14:30:00.000000</td>\n      <td>2017-08-03 22:42:57.929</td>\n      <td>2.0</td>\n      <td>False</td>\n      <td>2015-06-01 02:30:00</td>\n      <td>False</td>\n      <td>2015-05-31</td>\n    </tr>\n    <tr>\n      <th>4</th>\n      <td>2015-05-31 14:30:00</td>\n      <td>104</td>\n      <td>1</td>\n      <td>2</td>\n      <td>True</td>\n      <td>2</td>\n      <td>2015-05-31 14:30:00.000000</td>\n      <td>2017-08-03 22:42:57.929</td>\n      <td>2.0</td>\n      <td>False</td>\n      <td>2015-06-06 02:30:00</td>\n      <td>False</td>\n      <td>2015-05-31</td>\n    </tr>\n  </tbody>\n</table>\n</div>"
     },
     "metadata": {},
     "execution_count": 66
    }
   ],
   "source": [
    "combined_df.head()"
   ]
  },
  {
   "cell_type": "code",
   "execution_count": 78,
   "metadata": {},
   "outputs": [],
   "source": [
    "grouped = combined_df[['device_id','date', 'ignored']].groupby(['device_id', 'date']).agg({'ignored':['sum', 'count']})"
   ]
  },
  {
   "cell_type": "code",
   "execution_count": 81,
   "metadata": {},
   "outputs": [
    {
     "output_type": "error",
     "ename": "KeyError",
     "evalue": "'sum'",
     "traceback": [
      "\u001b[0;31m---------------------------------------------------------------------------\u001b[0m",
      "\u001b[0;31mKeyError\u001b[0m                                  Traceback (most recent call last)",
      "\u001b[0;32m/opt/conda/lib/python3.8/site-packages/pandas/core/indexes/base.py\u001b[0m in \u001b[0;36mget_loc\u001b[0;34m(self, key, method, tolerance)\u001b[0m\n\u001b[1;32m   2645\u001b[0m             \u001b[0;32mtry\u001b[0m\u001b[0;34m:\u001b[0m\u001b[0;34m\u001b[0m\u001b[0;34m\u001b[0m\u001b[0m\n\u001b[0;32m-> 2646\u001b[0;31m                 \u001b[0;32mreturn\u001b[0m \u001b[0mself\u001b[0m\u001b[0;34m.\u001b[0m\u001b[0m_engine\u001b[0m\u001b[0;34m.\u001b[0m\u001b[0mget_loc\u001b[0m\u001b[0;34m(\u001b[0m\u001b[0mkey\u001b[0m\u001b[0;34m)\u001b[0m\u001b[0;34m\u001b[0m\u001b[0;34m\u001b[0m\u001b[0m\n\u001b[0m\u001b[1;32m   2647\u001b[0m             \u001b[0;32mexcept\u001b[0m \u001b[0mKeyError\u001b[0m\u001b[0;34m:\u001b[0m\u001b[0;34m\u001b[0m\u001b[0;34m\u001b[0m\u001b[0m\n",
      "\u001b[0;32mpandas/_libs/index.pyx\u001b[0m in \u001b[0;36mpandas._libs.index.IndexEngine.get_loc\u001b[0;34m()\u001b[0m\n",
      "\u001b[0;32mpandas/_libs/index.pyx\u001b[0m in \u001b[0;36mpandas._libs.index.IndexEngine.get_loc\u001b[0;34m()\u001b[0m\n",
      "\u001b[0;32mpandas/_libs/hashtable_class_helper.pxi\u001b[0m in \u001b[0;36mpandas._libs.hashtable.PyObjectHashTable.get_item\u001b[0;34m()\u001b[0m\n",
      "\u001b[0;32mpandas/_libs/hashtable_class_helper.pxi\u001b[0m in \u001b[0;36mpandas._libs.hashtable.PyObjectHashTable.get_item\u001b[0;34m()\u001b[0m\n",
      "\u001b[0;31mKeyError\u001b[0m: 'sum'",
      "\nDuring handling of the above exception, another exception occurred:\n",
      "\u001b[0;31mKeyError\u001b[0m                                  Traceback (most recent call last)",
      "\u001b[0;32m<ipython-input-81-426f7e62708d>\u001b[0m in \u001b[0;36m<module>\u001b[0;34m\u001b[0m\n\u001b[0;32m----> 1\u001b[0;31m \u001b[0mgrouped\u001b[0m\u001b[0;34m[\u001b[0m\u001b[0;34m'sum'\u001b[0m\u001b[0;34m]\u001b[0m\u001b[0;34m\u001b[0m\u001b[0;34m\u001b[0m\u001b[0m\n\u001b[0m",
      "\u001b[0;32m/opt/conda/lib/python3.8/site-packages/pandas/core/frame.py\u001b[0m in \u001b[0;36m__getitem__\u001b[0;34m(self, key)\u001b[0m\n\u001b[1;32m   2797\u001b[0m         \u001b[0;32mif\u001b[0m \u001b[0mis_single_key\u001b[0m\u001b[0;34m:\u001b[0m\u001b[0;34m\u001b[0m\u001b[0;34m\u001b[0m\u001b[0m\n\u001b[1;32m   2798\u001b[0m             \u001b[0;32mif\u001b[0m \u001b[0mself\u001b[0m\u001b[0;34m.\u001b[0m\u001b[0mcolumns\u001b[0m\u001b[0;34m.\u001b[0m\u001b[0mnlevels\u001b[0m \u001b[0;34m>\u001b[0m \u001b[0;36m1\u001b[0m\u001b[0;34m:\u001b[0m\u001b[0;34m\u001b[0m\u001b[0;34m\u001b[0m\u001b[0m\n\u001b[0;32m-> 2799\u001b[0;31m                 \u001b[0;32mreturn\u001b[0m \u001b[0mself\u001b[0m\u001b[0;34m.\u001b[0m\u001b[0m_getitem_multilevel\u001b[0m\u001b[0;34m(\u001b[0m\u001b[0mkey\u001b[0m\u001b[0;34m)\u001b[0m\u001b[0;34m\u001b[0m\u001b[0;34m\u001b[0m\u001b[0m\n\u001b[0m\u001b[1;32m   2800\u001b[0m             \u001b[0mindexer\u001b[0m \u001b[0;34m=\u001b[0m \u001b[0mself\u001b[0m\u001b[0;34m.\u001b[0m\u001b[0mcolumns\u001b[0m\u001b[0;34m.\u001b[0m\u001b[0mget_loc\u001b[0m\u001b[0;34m(\u001b[0m\u001b[0mkey\u001b[0m\u001b[0;34m)\u001b[0m\u001b[0;34m\u001b[0m\u001b[0;34m\u001b[0m\u001b[0m\n\u001b[1;32m   2801\u001b[0m             \u001b[0;32mif\u001b[0m \u001b[0mis_integer\u001b[0m\u001b[0;34m(\u001b[0m\u001b[0mindexer\u001b[0m\u001b[0;34m)\u001b[0m\u001b[0;34m:\u001b[0m\u001b[0;34m\u001b[0m\u001b[0;34m\u001b[0m\u001b[0m\n",
      "\u001b[0;32m/opt/conda/lib/python3.8/site-packages/pandas/core/frame.py\u001b[0m in \u001b[0;36m_getitem_multilevel\u001b[0;34m(self, key)\u001b[0m\n\u001b[1;32m   2847\u001b[0m     \u001b[0;32mdef\u001b[0m \u001b[0m_getitem_multilevel\u001b[0m\u001b[0;34m(\u001b[0m\u001b[0mself\u001b[0m\u001b[0;34m,\u001b[0m \u001b[0mkey\u001b[0m\u001b[0;34m)\u001b[0m\u001b[0;34m:\u001b[0m\u001b[0;34m\u001b[0m\u001b[0;34m\u001b[0m\u001b[0m\n\u001b[1;32m   2848\u001b[0m         \u001b[0;31m# self.columns is a MultiIndex\u001b[0m\u001b[0;34m\u001b[0m\u001b[0;34m\u001b[0m\u001b[0;34m\u001b[0m\u001b[0m\n\u001b[0;32m-> 2849\u001b[0;31m         \u001b[0mloc\u001b[0m \u001b[0;34m=\u001b[0m \u001b[0mself\u001b[0m\u001b[0;34m.\u001b[0m\u001b[0mcolumns\u001b[0m\u001b[0;34m.\u001b[0m\u001b[0mget_loc\u001b[0m\u001b[0;34m(\u001b[0m\u001b[0mkey\u001b[0m\u001b[0;34m)\u001b[0m\u001b[0;34m\u001b[0m\u001b[0;34m\u001b[0m\u001b[0m\n\u001b[0m\u001b[1;32m   2850\u001b[0m         \u001b[0;32mif\u001b[0m \u001b[0misinstance\u001b[0m\u001b[0;34m(\u001b[0m\u001b[0mloc\u001b[0m\u001b[0;34m,\u001b[0m \u001b[0;34m(\u001b[0m\u001b[0mslice\u001b[0m\u001b[0;34m,\u001b[0m \u001b[0mSeries\u001b[0m\u001b[0;34m,\u001b[0m \u001b[0mnp\u001b[0m\u001b[0;34m.\u001b[0m\u001b[0mndarray\u001b[0m\u001b[0;34m,\u001b[0m \u001b[0mIndex\u001b[0m\u001b[0;34m)\u001b[0m\u001b[0;34m)\u001b[0m\u001b[0;34m:\u001b[0m\u001b[0;34m\u001b[0m\u001b[0;34m\u001b[0m\u001b[0m\n\u001b[1;32m   2851\u001b[0m             \u001b[0mnew_columns\u001b[0m \u001b[0;34m=\u001b[0m \u001b[0mself\u001b[0m\u001b[0;34m.\u001b[0m\u001b[0mcolumns\u001b[0m\u001b[0;34m[\u001b[0m\u001b[0mloc\u001b[0m\u001b[0;34m]\u001b[0m\u001b[0;34m\u001b[0m\u001b[0;34m\u001b[0m\u001b[0m\n",
      "\u001b[0;32m/opt/conda/lib/python3.8/site-packages/pandas/core/indexes/multi.py\u001b[0m in \u001b[0;36mget_loc\u001b[0;34m(self, key, method)\u001b[0m\n\u001b[1;32m   2660\u001b[0m         \u001b[0;32mif\u001b[0m \u001b[0;32mnot\u001b[0m \u001b[0misinstance\u001b[0m\u001b[0;34m(\u001b[0m\u001b[0mkey\u001b[0m\u001b[0;34m,\u001b[0m \u001b[0;34m(\u001b[0m\u001b[0mtuple\u001b[0m\u001b[0;34m,\u001b[0m \u001b[0mlist\u001b[0m\u001b[0;34m)\u001b[0m\u001b[0;34m)\u001b[0m\u001b[0;34m:\u001b[0m\u001b[0;34m\u001b[0m\u001b[0;34m\u001b[0m\u001b[0m\n\u001b[1;32m   2661\u001b[0m             \u001b[0;31m# not including list here breaks some indexing, xref #30892\u001b[0m\u001b[0;34m\u001b[0m\u001b[0;34m\u001b[0m\u001b[0;34m\u001b[0m\u001b[0m\n\u001b[0;32m-> 2662\u001b[0;31m             \u001b[0mloc\u001b[0m \u001b[0;34m=\u001b[0m \u001b[0mself\u001b[0m\u001b[0;34m.\u001b[0m\u001b[0m_get_level_indexer\u001b[0m\u001b[0;34m(\u001b[0m\u001b[0mkey\u001b[0m\u001b[0;34m,\u001b[0m \u001b[0mlevel\u001b[0m\u001b[0;34m=\u001b[0m\u001b[0;36m0\u001b[0m\u001b[0;34m)\u001b[0m\u001b[0;34m\u001b[0m\u001b[0;34m\u001b[0m\u001b[0m\n\u001b[0m\u001b[1;32m   2663\u001b[0m             \u001b[0;32mreturn\u001b[0m \u001b[0m_maybe_to_slice\u001b[0m\u001b[0;34m(\u001b[0m\u001b[0mloc\u001b[0m\u001b[0;34m)\u001b[0m\u001b[0;34m\u001b[0m\u001b[0;34m\u001b[0m\u001b[0m\n\u001b[1;32m   2664\u001b[0m \u001b[0;34m\u001b[0m\u001b[0m\n",
      "\u001b[0;32m/opt/conda/lib/python3.8/site-packages/pandas/core/indexes/multi.py\u001b[0m in \u001b[0;36m_get_level_indexer\u001b[0;34m(self, key, level, indexer)\u001b[0m\n\u001b[1;32m   2927\u001b[0m         \u001b[0;32melse\u001b[0m\u001b[0;34m:\u001b[0m\u001b[0;34m\u001b[0m\u001b[0;34m\u001b[0m\u001b[0m\n\u001b[1;32m   2928\u001b[0m \u001b[0;34m\u001b[0m\u001b[0m\n\u001b[0;32m-> 2929\u001b[0;31m             \u001b[0mcode\u001b[0m \u001b[0;34m=\u001b[0m \u001b[0mself\u001b[0m\u001b[0;34m.\u001b[0m\u001b[0m_get_loc_single_level_index\u001b[0m\u001b[0;34m(\u001b[0m\u001b[0mlevel_index\u001b[0m\u001b[0;34m,\u001b[0m \u001b[0mkey\u001b[0m\u001b[0;34m)\u001b[0m\u001b[0;34m\u001b[0m\u001b[0;34m\u001b[0m\u001b[0m\n\u001b[0m\u001b[1;32m   2930\u001b[0m \u001b[0;34m\u001b[0m\u001b[0m\n\u001b[1;32m   2931\u001b[0m             \u001b[0;32mif\u001b[0m \u001b[0mlevel\u001b[0m \u001b[0;34m>\u001b[0m \u001b[0;36m0\u001b[0m \u001b[0;32mor\u001b[0m \u001b[0mself\u001b[0m\u001b[0;34m.\u001b[0m\u001b[0mlexsort_depth\u001b[0m \u001b[0;34m==\u001b[0m \u001b[0;36m0\u001b[0m\u001b[0;34m:\u001b[0m\u001b[0;34m\u001b[0m\u001b[0;34m\u001b[0m\u001b[0m\n",
      "\u001b[0;32m/opt/conda/lib/python3.8/site-packages/pandas/core/indexes/multi.py\u001b[0m in \u001b[0;36m_get_loc_single_level_index\u001b[0;34m(self, level_index, key)\u001b[0m\n\u001b[1;32m   2596\u001b[0m             \u001b[0;32mreturn\u001b[0m \u001b[0;34m-\u001b[0m\u001b[0;36m1\u001b[0m\u001b[0;34m\u001b[0m\u001b[0;34m\u001b[0m\u001b[0m\n\u001b[1;32m   2597\u001b[0m         \u001b[0;32melse\u001b[0m\u001b[0;34m:\u001b[0m\u001b[0;34m\u001b[0m\u001b[0;34m\u001b[0m\u001b[0m\n\u001b[0;32m-> 2598\u001b[0;31m             \u001b[0;32mreturn\u001b[0m \u001b[0mlevel_index\u001b[0m\u001b[0;34m.\u001b[0m\u001b[0mget_loc\u001b[0m\u001b[0;34m(\u001b[0m\u001b[0mkey\u001b[0m\u001b[0;34m)\u001b[0m\u001b[0;34m\u001b[0m\u001b[0;34m\u001b[0m\u001b[0m\n\u001b[0m\u001b[1;32m   2599\u001b[0m \u001b[0;34m\u001b[0m\u001b[0m\n\u001b[1;32m   2600\u001b[0m     \u001b[0;32mdef\u001b[0m \u001b[0mget_loc\u001b[0m\u001b[0;34m(\u001b[0m\u001b[0mself\u001b[0m\u001b[0;34m,\u001b[0m \u001b[0mkey\u001b[0m\u001b[0;34m,\u001b[0m \u001b[0mmethod\u001b[0m\u001b[0;34m=\u001b[0m\u001b[0;32mNone\u001b[0m\u001b[0;34m)\u001b[0m\u001b[0;34m:\u001b[0m\u001b[0;34m\u001b[0m\u001b[0;34m\u001b[0m\u001b[0m\n",
      "\u001b[0;32m/opt/conda/lib/python3.8/site-packages/pandas/core/indexes/base.py\u001b[0m in \u001b[0;36mget_loc\u001b[0;34m(self, key, method, tolerance)\u001b[0m\n\u001b[1;32m   2646\u001b[0m                 \u001b[0;32mreturn\u001b[0m \u001b[0mself\u001b[0m\u001b[0;34m.\u001b[0m\u001b[0m_engine\u001b[0m\u001b[0;34m.\u001b[0m\u001b[0mget_loc\u001b[0m\u001b[0;34m(\u001b[0m\u001b[0mkey\u001b[0m\u001b[0;34m)\u001b[0m\u001b[0;34m\u001b[0m\u001b[0;34m\u001b[0m\u001b[0m\n\u001b[1;32m   2647\u001b[0m             \u001b[0;32mexcept\u001b[0m \u001b[0mKeyError\u001b[0m\u001b[0;34m:\u001b[0m\u001b[0;34m\u001b[0m\u001b[0;34m\u001b[0m\u001b[0m\n\u001b[0;32m-> 2648\u001b[0;31m                 \u001b[0;32mreturn\u001b[0m \u001b[0mself\u001b[0m\u001b[0;34m.\u001b[0m\u001b[0m_engine\u001b[0m\u001b[0;34m.\u001b[0m\u001b[0mget_loc\u001b[0m\u001b[0;34m(\u001b[0m\u001b[0mself\u001b[0m\u001b[0;34m.\u001b[0m\u001b[0m_maybe_cast_indexer\u001b[0m\u001b[0;34m(\u001b[0m\u001b[0mkey\u001b[0m\u001b[0;34m)\u001b[0m\u001b[0;34m)\u001b[0m\u001b[0;34m\u001b[0m\u001b[0;34m\u001b[0m\u001b[0m\n\u001b[0m\u001b[1;32m   2649\u001b[0m         \u001b[0mindexer\u001b[0m \u001b[0;34m=\u001b[0m \u001b[0mself\u001b[0m\u001b[0;34m.\u001b[0m\u001b[0mget_indexer\u001b[0m\u001b[0;34m(\u001b[0m\u001b[0;34m[\u001b[0m\u001b[0mkey\u001b[0m\u001b[0;34m]\u001b[0m\u001b[0;34m,\u001b[0m \u001b[0mmethod\u001b[0m\u001b[0;34m=\u001b[0m\u001b[0mmethod\u001b[0m\u001b[0;34m,\u001b[0m \u001b[0mtolerance\u001b[0m\u001b[0;34m=\u001b[0m\u001b[0mtolerance\u001b[0m\u001b[0;34m)\u001b[0m\u001b[0;34m\u001b[0m\u001b[0;34m\u001b[0m\u001b[0m\n\u001b[1;32m   2650\u001b[0m         \u001b[0;32mif\u001b[0m \u001b[0mindexer\u001b[0m\u001b[0;34m.\u001b[0m\u001b[0mndim\u001b[0m \u001b[0;34m>\u001b[0m \u001b[0;36m1\u001b[0m \u001b[0;32mor\u001b[0m \u001b[0mindexer\u001b[0m\u001b[0;34m.\u001b[0m\u001b[0msize\u001b[0m \u001b[0;34m>\u001b[0m \u001b[0;36m1\u001b[0m\u001b[0;34m:\u001b[0m\u001b[0;34m\u001b[0m\u001b[0;34m\u001b[0m\u001b[0m\n",
      "\u001b[0;32mpandas/_libs/index.pyx\u001b[0m in \u001b[0;36mpandas._libs.index.IndexEngine.get_loc\u001b[0;34m()\u001b[0m\n",
      "\u001b[0;32mpandas/_libs/index.pyx\u001b[0m in \u001b[0;36mpandas._libs.index.IndexEngine.get_loc\u001b[0;34m()\u001b[0m\n",
      "\u001b[0;32mpandas/_libs/hashtable_class_helper.pxi\u001b[0m in \u001b[0;36mpandas._libs.hashtable.PyObjectHashTable.get_item\u001b[0;34m()\u001b[0m\n",
      "\u001b[0;32mpandas/_libs/hashtable_class_helper.pxi\u001b[0m in \u001b[0;36mpandas._libs.hashtable.PyObjectHashTable.get_item\u001b[0;34m()\u001b[0m\n",
      "\u001b[0;31mKeyError\u001b[0m: 'sum'"
     ]
    }
   ],
   "source": [
    "grouped['sum']"
   ]
  },
  {
   "source": [
    "combined_df[combined_df['device_id']==19014].sort_values('timestamp')"
   ],
   "cell_type": "markdown",
   "metadata": {}
  },
  {
   "cell_type": "code",
   "execution_count": 104,
   "metadata": {},
   "outputs": [
    {
     "data": {
      "text/plain": [
       "False    9621\n",
       "True      379\n",
       "Name: ignored, dtype: int64"
      ]
     },
     "execution_count": 104,
     "metadata": {},
     "output_type": "execute_result"
    }
   ],
   "source": [
    "test['ignored'].value_counts()"
   ]
  },
  {
   "cell_type": "code",
   "execution_count": 109,
   "metadata": {},
   "outputs": [
    {
     "data": {
      "text/plain": [
       "4092"
      ]
     },
     "execution_count": 109,
     "metadata": {},
     "output_type": "execute_result"
    }
   ],
   "source": [
    "test[(test['connected']==False) & (test['prev_connected']==False)].shape[0]"
   ]
  },
  {
   "cell_type": "code",
   "execution_count": 113,
   "metadata": {},
   "outputs": [
    {
     "name": "stdout",
     "output_type": "stream",
     "text": [
      "2min 7s ± 3.16 s per loop (mean ± std. dev. of 7 runs, 1 loop each)\n"
     ]
    }
   ],
   "source": [
    "%%timeit\n",
    "process_dataframe(events_merged)"
   ]
  },
  {
   "cell_type": "code",
   "execution_count": 134,
   "metadata": {},
   "outputs": [
    {
     "name": "stdout",
     "output_type": "stream",
     "text": [
      "INFO: Pandarallel will run on 8 workers.\n",
      "INFO: Pandarallel will use standard multiprocessing data transfer (pipe) to transfer data between the main process and workers.\n",
      "INFO: Pandarallel will run on 8 workers.\n",
      "INFO: Pandarallel will use standard multiprocessing data transfer (pipe) to transfer data between the main process and workers.\n",
      "INFO: Pandarallel will run on 8 workers.\n",
      "INFO: Pandarallel will use standard multiprocessing data transfer (pipe) to transfer data between the main process and workers.\n",
      "INFO: Pandarallel will run on 8 workers.\n",
      "INFO: Pandarallel will use standard multiprocessing data transfer (pipe) to transfer data between the main process and workers.\n",
      "INFO: Pandarallel will run on 8 workers.\n",
      "INFO: Pandarallel will use standard multiprocessing data transfer (pipe) to transfer data between the main process and workers.\n",
      "INFO: Pandarallel will run on 8 workers.\n",
      "INFO: Pandarallel will use standard multiprocessing data transfer (pipe) to transfer data between the main process and workers.\n",
      "INFO: Pandarallel will run on 8 workers.\n",
      "INFO: Pandarallel will use standard multiprocessing data transfer (pipe) to transfer data between the main process and workers.\n",
      "INFO: Pandarallel will run on 8 workers.\n",
      "INFO: Pandarallel will use standard multiprocessing data transfer (pipe) to transfer data between the main process and workers.\n",
      "42.2 s ± 1.4 s per loop (mean ± std. dev. of 7 runs, 1 loop each)\n"
     ]
    }
   ],
   "source": [
    "%%timeit\n",
    "pandarallel.initialize()\n",
    "events_merged['ignored'] = events_merged.parallel_apply(lambda row: prepare_final(row), axis=1)"
   ]
  },
  {
   "cell_type": "code",
   "execution_count": 135,
   "metadata": {},
   "outputs": [
    {
     "name": "stdout",
     "output_type": "stream",
     "text": [
      "379931\n",
      "379931\n"
     ]
    }
   ],
   "source": [
    "print(events_merged[(events_merged['connected']==False) & (events_merged['prev_connected']==False)].shape[0])\n",
    "print(events_merged[events_merged['ignored']==True].shape[0])"
   ]
  },
  {
   "cell_type": "code",
   "execution_count": null,
   "metadata": {},
   "outputs": [],
   "source": [
    "print(\"end:{}\".format(datetime.datetime.now()))"
   ]
  }
 ],
 "metadata": {
  "kernelspec": {
   "display_name": "Python 3",
   "language": "python",
   "name": "python3"
  },
  "language_info": {
   "codemirror_mode": {
    "name": "ipython",
    "version": 3
   },
   "file_extension": ".py",
   "mimetype": "text/x-python",
   "name": "python",
   "nbconvert_exporter": "python",
   "pygments_lexer": "ipython3",
   "version": "3.8.3-final"
  }
 },
 "nbformat": 4,
 "nbformat_minor": 2
}