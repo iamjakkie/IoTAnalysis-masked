{
 "cells": [
  {
   "cell_type": "code",
   "execution_count": 128,
   "metadata": {},
   "outputs": [
    {
     "ename": "ModuleNotFoundError",
     "evalue": "No module named 'pandarallel'",
     "output_type": "error",
     "traceback": [
      "\u001b[0;31m---------------------------------------------------------------------------\u001b[0m",
      "\u001b[0;31mModuleNotFoundError\u001b[0m                       Traceback (most recent call last)",
      "\u001b[0;32m<ipython-input-128-e8e7c17d99da>\u001b[0m in \u001b[0;36m<module>\u001b[0;34m\u001b[0m\n\u001b[1;32m      2\u001b[0m \u001b[0;32mimport\u001b[0m \u001b[0mdatetime\u001b[0m\u001b[0;34m\u001b[0m\u001b[0;34m\u001b[0m\u001b[0m\n\u001b[1;32m      3\u001b[0m \u001b[0;32mimport\u001b[0m \u001b[0mnumpy\u001b[0m \u001b[0;32mas\u001b[0m \u001b[0mnp\u001b[0m\u001b[0;34m\u001b[0m\u001b[0;34m\u001b[0m\u001b[0m\n\u001b[0;32m----> 4\u001b[0;31m \u001b[0;32mfrom\u001b[0m \u001b[0mpandarallel\u001b[0m \u001b[0;32mimport\u001b[0m \u001b[0mpandarallel\u001b[0m\u001b[0;34m\u001b[0m\u001b[0;34m\u001b[0m\u001b[0m\n\u001b[0m\u001b[1;32m      5\u001b[0m \u001b[0;34m\u001b[0m\u001b[0m\n\u001b[1;32m      6\u001b[0m \u001b[0mpd\u001b[0m\u001b[0;34m.\u001b[0m\u001b[0mset_option\u001b[0m\u001b[0;34m(\u001b[0m\u001b[0;34m'display.max_columns'\u001b[0m\u001b[0;34m,\u001b[0m\u001b[0;32mNone\u001b[0m\u001b[0;34m)\u001b[0m\u001b[0;34m\u001b[0m\u001b[0;34m\u001b[0m\u001b[0m\n",
      "\u001b[0;31mModuleNotFoundError\u001b[0m: No module named 'pandarallel'"
     ]
    }
   ],
   "source": [
    "import pandas as pd\n",
    "import datetime\n",
    "import numpy as np\n",
    "\n",
    "pd.set_option('display.max_columns',None)\n",
    "\n",
    "\n",
    "\"\"\"\n",
    "Your first task is to create a stacked chart of **unique online devices per\n",
    "day**, segregated by fleet size. The fleet size is an attribute of each user\n",
    "and is defined as the number of online devices that this user had at a\n",
    "particular day. You can split the dataset in the following fleet sizes:\n",
    "\n",
    "* 1-2 devices\n",
    "* 3-9 devices\n",
    "* 10-99 devices\n",
    "* 100-999 devices\n",
    "\n",
    "A device should be counted as online for a particular day if it was online for\n",
    "any amount of time during that day. For example, a device that appear online\n",
    "for only a second should still be counted for that day.\n",
    "\n",
    "The specific rules we have selected to deal with problematic sections\n",
    "of a device's timeline can be summarised in the following table:\n",
    "\n",
    "| current event | current server | next event | next server | rule        |\n",
    "|---------------|----------------|------------|-------------|-------------|\n",
    "| online        | X              | online     | X           | Assume device was online from current event's timestamp until next event's timestamp\n",
    "| online        | X              | online     | Y           | Assume device was online from current event's timestamp until X's destruction time or next event's timestamp, whichever is smaller\n",
    "| online        | X              | offline    | X           | Normal case\n",
    "| online        | X              | offline    | Y           | Assume device was online from current event's timestamp until X's destruction time. Ignore next event.\n",
    "| offline       | X              | online     | X           | Normal case\n",
    "| offline       | X              | online     | Y           | Normal case\n",
    "| offline       | X              | offline    | X           | Ignore next event\n",
    "| offline       | X              | offline    | Y           | Ignore next event\n",
    "\"\"\""
   ]
  },
  {
   "cell_type": "code",
   "execution_count": 129,
   "metadata": {},
   "outputs": [
    {
     "name": "stdout",
     "output_type": "stream",
     "text": [
      "Collecting pandarallel\n",
      "  Downloading https://files.pythonhosted.org/packages/99/06/bd582106766c483d6da51c05b0cdd7cb61894bb843c7ecc4789032232327/pandarallel-1.4.8.tar.gz\n",
      "Collecting dill (from pandarallel)\n",
      "\u001b[?25l  Downloading https://files.pythonhosted.org/packages/e2/96/518a8ea959a734b70d2e95fef98bcbfdc7adad1c1e5f5dd9148c835205a5/dill-0.3.2.zip (177kB)\n",
      "\u001b[K     |████████████████████████████████| 184kB 824kB/s eta 0:00:01\n",
      "\u001b[?25hBuilding wheels for collected packages: pandarallel, dill\n",
      "  Building wheel for pandarallel (setup.py) ... \u001b[?25ldone\n",
      "\u001b[?25h  Created wheel for pandarallel: filename=pandarallel-1.4.8-cp37-none-any.whl size=16113 sha256=bef7505442209ccde5b195005052d99f4a0bb77f4ca97edbb6da36e5ae133b18\n",
      "  Stored in directory: /Users/jakkie/Library/Caches/pip/wheels/75/a2/85/b45be2e86d86e9ec5da6d05c4b994d18c81abe76e3f39415aa\n",
      "  Building wheel for dill (setup.py) ... \u001b[?25ldone\n",
      "\u001b[?25h  Created wheel for dill: filename=dill-0.3.2-cp37-none-any.whl size=78913 sha256=62858330ff22cba8daf8be25f3d10763f3b99b966acdfb218c80103bb23fe6bb\n",
      "  Stored in directory: /Users/jakkie/Library/Caches/pip/wheels/27/4b/a2/34ccdcc2f158742cfe9650675560dea85f78c3f4628f7daad0\n",
      "Successfully built pandarallel dill\n",
      "Installing collected packages: dill, pandarallel\n",
      "Successfully installed dill-0.3.2 pandarallel-1.4.8\n"
     ]
    }
   ],
   "source": [
    "import sys\n",
    "!{sys.executable} -m pip install pandarallel"
   ]
  },
  {
   "cell_type": "code",
   "execution_count": 130,
   "metadata": {},
   "outputs": [],
   "source": [
    "from pandarallel import pandarallel"
   ]
  },
  {
   "cell_type": "code",
   "execution_count": 124,
   "metadata": {},
   "outputs": [],
   "source": [
    "def mark_ignored_rows(row):\n",
    "    #df.loc[df['prev_server_id']=='None', 'ignored'] = 0\n",
    "    if(row['connected']==False and row['prev_connected']==False):\n",
    "        return True\n",
    "#     if(df['prev_connected'] & df['connected'] == False):\n",
    "#         return True\n",
    "    else:\n",
    "        return False\n",
    "    \n",
    "def process_dataframe(df):\n",
    "    df['ignored'] = df.apply(lambda row: prepare_final(row), axis=1)\n",
    "\n",
    "def parallelize_dataframe(df, func, n_cores=4):\n",
    "    pool = Pool(n_cores)\n",
    "    df_split = np.array_split(df, n_cores)\n",
    "    df = pd.concat(pool.map(func, df_split))\n",
    "    pool.close()\n",
    "    pool.join()\n",
    "    return df"
   ]
  },
  {
   "cell_type": "code",
   "execution_count": 3,
   "metadata": {},
   "outputs": [],
   "source": [
    "names=['id','created_at','destroyed_at']\n",
    "servers = pd.read_csv('data/servers.csv',names=names)"
   ]
  },
  {
   "cell_type": "code",
   "execution_count": 4,
   "metadata": {},
   "outputs": [],
   "source": [
    "names = ['timestamp','device_id', 'user_id','server_id','connected']\n",
    "events = pd.read_csv('data/connectivity_events.csv',names=names)#,nrows=1000)"
   ]
  },
  {
   "cell_type": "code",
   "execution_count": 67,
   "metadata": {},
   "outputs": [
    {
     "data": {
      "text/plain": [
       "9308207"
      ]
     },
     "execution_count": 67,
     "metadata": {},
     "output_type": "execute_result"
    }
   ],
   "source": [
    "events_merged=events.merge(servers,left_on='server_id',right_on='id')\n",
    "\n",
    "events_merged['prev_server_id']=(events_merged.sort_values(by=['timestamp'], ascending=True)\n",
    "                               .groupby(['device_id'])['server_id'].shift(1))\n",
    "events_merged['prev_connected']=(events_merged.sort_values(by=['timestamp'], ascending=True)\n",
    "                         .groupby(['device_id'])['connected'].shift(1)).astype(bool)\n",
    "events_merged['prev_timestamp']=(events_merged.sort_values(by=['timestamp'], ascending=True)\n",
    "                                         .groupby(['device_id'])['timestamp'].shift(1))\n",
    "events_merged['ignored']=False\n",
    "events_merged.shape[0]"
   ]
  },
  {
   "cell_type": "code",
   "execution_count": 131,
   "metadata": {},
   "outputs": [
    {
     "data": {
      "text/html": [
       "<div>\n",
       "<style scoped>\n",
       "    .dataframe tbody tr th:only-of-type {\n",
       "        vertical-align: middle;\n",
       "    }\n",
       "\n",
       "    .dataframe tbody tr th {\n",
       "        vertical-align: top;\n",
       "    }\n",
       "\n",
       "    .dataframe thead th {\n",
       "        text-align: right;\n",
       "    }\n",
       "</style>\n",
       "<table border=\"1\" class=\"dataframe\">\n",
       "  <thead>\n",
       "    <tr style=\"text-align: right;\">\n",
       "      <th></th>\n",
       "      <th>timestamp</th>\n",
       "      <th>device_id</th>\n",
       "      <th>user_id</th>\n",
       "      <th>server_id</th>\n",
       "      <th>connected</th>\n",
       "      <th>id</th>\n",
       "      <th>created_at</th>\n",
       "      <th>destroyed_at</th>\n",
       "      <th>prev_server_id</th>\n",
       "      <th>prev_connected</th>\n",
       "      <th>prev_timestamp</th>\n",
       "      <th>ignored</th>\n",
       "    </tr>\n",
       "  </thead>\n",
       "  <tbody>\n",
       "    <tr>\n",
       "      <td>1285584</td>\n",
       "      <td>2017-08-30 18:22:56.613</td>\n",
       "      <td>21383</td>\n",
       "      <td>540</td>\n",
       "      <td>8</td>\n",
       "      <td>False</td>\n",
       "      <td>8</td>\n",
       "      <td>2017-08-29 20:12:51.954571</td>\n",
       "      <td>2017-09-02 12:32:37.348</td>\n",
       "      <td>8.0</td>\n",
       "      <td>True</td>\n",
       "      <td>2017-08-30 17:55:55.747</td>\n",
       "      <td>False</td>\n",
       "    </tr>\n",
       "    <tr>\n",
       "      <td>4234268</td>\n",
       "      <td>2017-11-15 21:59:32.016</td>\n",
       "      <td>9529</td>\n",
       "      <td>168</td>\n",
       "      <td>19</td>\n",
       "      <td>True</td>\n",
       "      <td>19</td>\n",
       "      <td>2017-11-09 20:01:36.97067</td>\n",
       "      <td>2017-11-22 16:15:45.274</td>\n",
       "      <td>19.0</td>\n",
       "      <td>False</td>\n",
       "      <td>2017-11-15 21:59:31.918</td>\n",
       "      <td>False</td>\n",
       "    </tr>\n",
       "    <tr>\n",
       "      <td>4870566</td>\n",
       "      <td>2017-11-29 18:04:07.287</td>\n",
       "      <td>9529</td>\n",
       "      <td>168</td>\n",
       "      <td>20</td>\n",
       "      <td>True</td>\n",
       "      <td>20</td>\n",
       "      <td>2017-11-22 16:15:57.285482</td>\n",
       "      <td>2017-12-08 23:35:12.164</td>\n",
       "      <td>20.0</td>\n",
       "      <td>False</td>\n",
       "      <td>2017-11-29 18:04:07.156</td>\n",
       "      <td>False</td>\n",
       "    </tr>\n",
       "    <tr>\n",
       "      <td>5664668</td>\n",
       "      <td>2017-12-12 04:06:26.383</td>\n",
       "      <td>20685</td>\n",
       "      <td>1325</td>\n",
       "      <td>26</td>\n",
       "      <td>True</td>\n",
       "      <td>26</td>\n",
       "      <td>2017-12-11 22:13:30.831468</td>\n",
       "      <td>2017-12-13 17:03:45.565</td>\n",
       "      <td>26.0</td>\n",
       "      <td>False</td>\n",
       "      <td>2017-12-12 04:06:12.969</td>\n",
       "      <td>False</td>\n",
       "    </tr>\n",
       "    <tr>\n",
       "      <td>7334910</td>\n",
       "      <td>2018-01-10 23:44:45.512</td>\n",
       "      <td>28117</td>\n",
       "      <td>1792</td>\n",
       "      <td>28</td>\n",
       "      <td>True</td>\n",
       "      <td>28</td>\n",
       "      <td>2018-01-08 13:19:01.744274</td>\n",
       "      <td>2018-01-12 17:05:49.192</td>\n",
       "      <td>28.0</td>\n",
       "      <td>False</td>\n",
       "      <td>2018-01-10 23:24:19.626</td>\n",
       "      <td>False</td>\n",
       "    </tr>\n",
       "  </tbody>\n",
       "</table>\n",
       "</div>"
      ],
      "text/plain": [
       "                       timestamp  device_id  user_id  server_id  connected  \\\n",
       "1285584  2017-08-30 18:22:56.613      21383      540          8      False   \n",
       "4234268  2017-11-15 21:59:32.016       9529      168         19       True   \n",
       "4870566  2017-11-29 18:04:07.287       9529      168         20       True   \n",
       "5664668  2017-12-12 04:06:26.383      20685     1325         26       True   \n",
       "7334910  2018-01-10 23:44:45.512      28117     1792         28       True   \n",
       "\n",
       "         id                  created_at             destroyed_at  \\\n",
       "1285584   8  2017-08-29 20:12:51.954571  2017-09-02 12:32:37.348   \n",
       "4234268  19   2017-11-09 20:01:36.97067  2017-11-22 16:15:45.274   \n",
       "4870566  20  2017-11-22 16:15:57.285482  2017-12-08 23:35:12.164   \n",
       "5664668  26  2017-12-11 22:13:30.831468  2017-12-13 17:03:45.565   \n",
       "7334910  28  2018-01-08 13:19:01.744274  2018-01-12 17:05:49.192   \n",
       "\n",
       "         prev_server_id  prev_connected           prev_timestamp  ignored  \n",
       "1285584             8.0            True  2017-08-30 17:55:55.747    False  \n",
       "4234268            19.0           False  2017-11-15 21:59:31.918    False  \n",
       "4870566            20.0           False  2017-11-29 18:04:07.156    False  \n",
       "5664668            26.0           False  2017-12-12 04:06:12.969    False  \n",
       "7334910            28.0           False  2018-01-10 23:24:19.626    False  "
      ]
     },
     "execution_count": 131,
     "metadata": {},
     "output_type": "execute_result"
    }
   ],
   "source": [
    "test = events_merged.sample(100000)\n",
    "test.head()"
   ]
  },
  {
   "cell_type": "code",
   "execution_count": 69,
   "metadata": {},
   "outputs": [
    {
     "data": {
      "text/plain": [
       "timestamp          object\n",
       "device_id           int64\n",
       "user_id             int64\n",
       "server_id           int64\n",
       "connected            bool\n",
       "id                  int64\n",
       "created_at         object\n",
       "destroyed_at       object\n",
       "prev_server_id    float64\n",
       "prev_connected       bool\n",
       "prev_timestamp     object\n",
       "ignored              bool\n",
       "dtype: object"
      ]
     },
     "execution_count": 69,
     "metadata": {},
     "output_type": "execute_result"
    }
   ],
   "source": [
    "test.dtypes"
   ]
  },
  {
   "cell_type": "code",
   "execution_count": 97,
   "metadata": {},
   "outputs": [
    {
     "data": {
      "text/plain": [
       "False    10000\n",
       "Name: ignored, dtype: int64"
      ]
     },
     "execution_count": 97,
     "metadata": {},
     "output_type": "execute_result"
    }
   ],
   "source": [
    "test['ignored'].value_counts()"
   ]
  },
  {
   "cell_type": "code",
   "execution_count": 103,
   "metadata": {},
   "outputs": [],
   "source": [
    "# test['ignored'] = test.apply (lambda row: prepare_final(row), axis=1)\n",
    "process_dataframe(test)"
   ]
  },
  {
   "cell_type": "code",
   "execution_count": 104,
   "metadata": {},
   "outputs": [
    {
     "data": {
      "text/plain": [
       "False    9621\n",
       "True      379\n",
       "Name: ignored, dtype: int64"
      ]
     },
     "execution_count": 104,
     "metadata": {},
     "output_type": "execute_result"
    }
   ],
   "source": [
    "test['ignored'].value_counts()"
   ]
  },
  {
   "cell_type": "code",
   "execution_count": 109,
   "metadata": {},
   "outputs": [
    {
     "data": {
      "text/plain": [
       "4092"
      ]
     },
     "execution_count": 109,
     "metadata": {},
     "output_type": "execute_result"
    }
   ],
   "source": [
    "test[(test['connected']==False) & (test['prev_connected']==False)].shape[0]"
   ]
  },
  {
   "cell_type": "code",
   "execution_count": 113,
   "metadata": {},
   "outputs": [
    {
     "name": "stdout",
     "output_type": "stream",
     "text": [
      "2min 7s ± 3.16 s per loop (mean ± std. dev. of 7 runs, 1 loop each)\n"
     ]
    }
   ],
   "source": [
    "%%timeit\n",
    "process_dataframe(events_merged)"
   ]
  },
  {
   "cell_type": "code",
   "execution_count": 134,
   "metadata": {},
   "outputs": [
    {
     "name": "stdout",
     "output_type": "stream",
     "text": [
      "INFO: Pandarallel will run on 8 workers.\n",
      "INFO: Pandarallel will use standard multiprocessing data transfer (pipe) to transfer data between the main process and workers.\n",
      "INFO: Pandarallel will run on 8 workers.\n",
      "INFO: Pandarallel will use standard multiprocessing data transfer (pipe) to transfer data between the main process and workers.\n",
      "INFO: Pandarallel will run on 8 workers.\n",
      "INFO: Pandarallel will use standard multiprocessing data transfer (pipe) to transfer data between the main process and workers.\n",
      "INFO: Pandarallel will run on 8 workers.\n",
      "INFO: Pandarallel will use standard multiprocessing data transfer (pipe) to transfer data between the main process and workers.\n",
      "INFO: Pandarallel will run on 8 workers.\n",
      "INFO: Pandarallel will use standard multiprocessing data transfer (pipe) to transfer data between the main process and workers.\n",
      "INFO: Pandarallel will run on 8 workers.\n",
      "INFO: Pandarallel will use standard multiprocessing data transfer (pipe) to transfer data between the main process and workers.\n",
      "INFO: Pandarallel will run on 8 workers.\n",
      "INFO: Pandarallel will use standard multiprocessing data transfer (pipe) to transfer data between the main process and workers.\n",
      "INFO: Pandarallel will run on 8 workers.\n",
      "INFO: Pandarallel will use standard multiprocessing data transfer (pipe) to transfer data between the main process and workers.\n",
      "42.2 s ± 1.4 s per loop (mean ± std. dev. of 7 runs, 1 loop each)\n"
     ]
    }
   ],
   "source": [
    "%%timeit\n",
    "pandarallel.initialize()\n",
    "events_merged['ignored'] = events_merged.parallel_apply(lambda row: prepare_final(row), axis=1)"
   ]
  },
  {
   "cell_type": "code",
   "execution_count": 135,
   "metadata": {},
   "outputs": [
    {
     "name": "stdout",
     "output_type": "stream",
     "text": [
      "379931\n",
      "379931\n"
     ]
    }
   ],
   "source": [
    "print(events_merged[(events_merged['connected']==False) & (events_merged['prev_connected']==False)].shape[0])\n",
    "print(events_merged[events_merged['ignored']==True].shape[0])"
   ]
  },
  {
   "cell_type": "code",
   "execution_count": 123,
   "metadata": {},
   "outputs": [
    {
     "data": {
      "text/plain": [
       "[                       timestamp  device_id  user_id  server_id  connected  \\\n",
       " 1044783   2017-08-26 05:18:44.39      28100     1792          5       True   \n",
       " 2906679   2017-10-17 00:13:52.05      24529     2233         15      False   \n",
       " 9011778  2018-02-20 12:20:14.358      32164      119         32      False   \n",
       " 327703   2017-08-03 07:53:05.195       9529      168          2      False   \n",
       " 1588320  2017-09-10 00:45:53.564       9529      168         12       True   \n",
       " ...                          ...        ...      ...        ...        ...   \n",
       " 2475145  2017-10-06 17:24:33.557       9529      168         13      False   \n",
       " 604876   2017-08-09 23:29:57.733      14786      119          5      False   \n",
       " 4344440  2017-11-18 11:10:05.964      11327      199         19       True   \n",
       " 1027996  2017-08-25 16:34:03.722      24373     2422          5       True   \n",
       " 5520827  2017-12-11 13:04:15.986      20685     1325         25       True   \n",
       " \n",
       "          id                  created_at             destroyed_at  \\\n",
       " 1044783   5  2017-08-08 01:02:26.761809  2017-08-29 19:57:59.039   \n",
       " 2906679  15  2017-10-11 16:32:49.085334  2017-10-17 00:50:02.091   \n",
       " 9011778  32   2018-02-16 22:42:16.20626  2018-02-26 15:52:07.692   \n",
       " 327703    2  2015-05-31 14:30:00.000000  2017-08-03 22:42:57.929   \n",
       " 1588320  12  2017-09-03 15:15:13.687021  2017-09-26 16:10:32.688   \n",
       " ...      ..                         ...                      ...   \n",
       " 2475145  13  2017-09-26 16:10:36.230545  2017-10-10 20:31:43.062   \n",
       " 604876    5  2017-08-08 01:02:26.761809  2017-08-29 19:57:59.039   \n",
       " 4344440  19   2017-11-09 20:01:36.97067  2017-11-22 16:15:45.274   \n",
       " 1027996   5  2017-08-08 01:02:26.761809  2017-08-29 19:57:59.039   \n",
       " 5520827  25  2017-12-09 01:46:14.336618  2017-12-11 22:13:23.035   \n",
       " \n",
       "          prev_server_id  prev_connected           prev_timestamp  ignored  \n",
       " 1044783             5.0           False  2017-08-26 05:18:44.061    False  \n",
       " 2906679            15.0           False  2017-10-17 00:11:39.799    False  \n",
       " 9011778            32.0            True  2018-02-20 12:18:02.017    False  \n",
       " 327703              2.0            True  2017-08-03 07:52:53.255    False  \n",
       " 1588320            12.0           False  2017-09-10 00:45:53.248    False  \n",
       " ...                 ...             ...                      ...      ...  \n",
       " 2475145            13.0            True  2017-10-06 17:24:21.502    False  \n",
       " 604876              5.0            True  2017-08-09 23:20:31.813    False  \n",
       " 4344440            19.0           False  2017-11-18 11:09:40.509    False  \n",
       " 1027996             5.0           False  2017-08-25 16:33:53.734    False  \n",
       " 5520827            25.0           False  2017-12-11 13:04:02.824    False  \n",
       " \n",
       " [25000 rows x 12 columns],\n",
       "                        timestamp  device_id  user_id  server_id  connected  \\\n",
       " 4126630  2017-11-13 05:59:39.099      20872     2518         19       True   \n",
       " 8540528  2018-02-07 08:38:33.287      52265     4292         29      False   \n",
       " 6549962  2017-12-27 05:04:03.256       9529      168         27      False   \n",
       " 2066421   2017-09-24 02:08:59.06      30266     1136         12       True   \n",
       " 6862735  2018-01-02 12:52:59.747      45587     2357         27      False   \n",
       " ...                          ...        ...      ...        ...        ...   \n",
       " 2052830  2017-09-23 15:09:38.189      25929      658         12       True   \n",
       " 8657621  2018-02-10 12:15:50.381      19792     2828         29      False   \n",
       " 6942585  2018-01-04 04:41:35.137       9529      168         27      False   \n",
       " 1725402  2017-09-14 00:19:38.581       9529      168         12      False   \n",
       " 8779751  2018-02-13 15:53:12.238      29408      540         30       True   \n",
       " \n",
       "          id                  created_at             destroyed_at  \\\n",
       " 4126630  19   2017-11-09 20:01:36.97067  2017-11-22 16:15:45.274   \n",
       " 8540528  29  2018-01-12 17:01:54.553283  2018-02-12 15:06:52.974   \n",
       " 6549962  27  2017-12-13 17:03:53.912771  2018-01-08 13:18:51.058   \n",
       " 2066421  12  2017-09-03 15:15:13.687021  2017-09-26 16:10:32.688   \n",
       " 6862735  27  2017-12-13 17:03:53.912771  2018-01-08 13:18:51.058   \n",
       " ...      ..                         ...                      ...   \n",
       " 2052830  12  2017-09-03 15:15:13.687021  2017-09-26 16:10:32.688   \n",
       " 8657621  29  2018-01-12 17:01:54.553283  2018-02-12 15:06:52.974   \n",
       " 6942585  27  2017-12-13 17:03:53.912771  2018-01-08 13:18:51.058   \n",
       " 1725402  12  2017-09-03 15:15:13.687021  2017-09-26 16:10:32.688   \n",
       " 8779751  30  2018-02-12 15:07:02.002169  2018-02-16 12:55:57.376   \n",
       " \n",
       "          prev_server_id  prev_connected           prev_timestamp  ignored  \n",
       " 4126630            19.0           False  2017-11-13 05:59:38.977    False  \n",
       " 8540528            29.0            True  2018-02-07 08:29:44.624    False  \n",
       " 6549962            27.0            True  2017-12-27 05:03:51.181    False  \n",
       " 2066421            12.0           False  2017-09-24 02:08:57.635    False  \n",
       " 6862735            27.0            True  2018-01-02 08:43:16.626    False  \n",
       " ...                 ...             ...                      ...      ...  \n",
       " 2052830            12.0           False  2017-09-23 15:08:11.146    False  \n",
       " 8657621            29.0            True  2018-02-09 19:32:24.957    False  \n",
       " 6942585            27.0            True  2018-01-04 04:41:23.086    False  \n",
       " 1725402            12.0            True  2017-09-14 00:19:26.567    False  \n",
       " 8779751            30.0           False  2018-02-13 15:53:12.158    False  \n",
       " \n",
       " [25000 rows x 12 columns],\n",
       "                        timestamp  device_id  user_id  server_id  connected  \\\n",
       " 7078386  2018-01-06 19:17:07.596      22355     2518         27      False   \n",
       " 7020946  2018-01-05 17:34:07.075       9529      168         27       True   \n",
       " 2773988  2017-10-13 21:02:12.992      22419     1385         15       True   \n",
       " 4540314  2017-11-22 22:30:49.784      10125      571         20       True   \n",
       " 2762970  2017-10-13 14:01:45.795      31369     2035         15       True   \n",
       " ...                          ...        ...      ...        ...        ...   \n",
       " 6964458  2018-01-04 15:23:42.078      20685     1325         27       True   \n",
       " 1400232  2017-09-03 17:46:37.898       9529      168         12       True   \n",
       " 3667078  2017-11-02 10:22:21.764      32569     3309         16       True   \n",
       " 2908978  2017-10-17 00:14:58.295       9084      540         15      False   \n",
       " 5373926  2017-12-09 10:23:10.027      39843      994         25      False   \n",
       " \n",
       "          id                  created_at             destroyed_at  \\\n",
       " 7078386  27  2017-12-13 17:03:53.912771  2018-01-08 13:18:51.058   \n",
       " 7020946  27  2017-12-13 17:03:53.912771  2018-01-08 13:18:51.058   \n",
       " 2773988  15  2017-10-11 16:32:49.085334  2017-10-17 00:50:02.091   \n",
       " 4540314  20  2017-11-22 16:15:57.285482  2017-12-08 23:35:12.164   \n",
       " 2762970  15  2017-10-11 16:32:49.085334  2017-10-17 00:50:02.091   \n",
       " ...      ..                         ...                      ...   \n",
       " 6964458  27  2017-12-13 17:03:53.912771  2018-01-08 13:18:51.058   \n",
       " 1400232  12  2017-09-03 15:15:13.687021  2017-09-26 16:10:32.688   \n",
       " 3667078  16  2017-10-17 00:50:09.487556  2017-11-03 20:15:19.644   \n",
       " 2908978  15  2017-10-11 16:32:49.085334  2017-10-17 00:50:02.091   \n",
       " 5373926  25  2017-12-09 01:46:14.336618  2017-12-11 22:13:23.035   \n",
       " \n",
       "          prev_server_id  prev_connected           prev_timestamp  ignored  \n",
       " 7078386            27.0            True  2018-01-06 19:16:08.708    False  \n",
       " 7020946            27.0           False  2018-01-05 17:34:06.858    False  \n",
       " 2773988            15.0           False  2017-10-13 21:02:01.028    False  \n",
       " 4540314            20.0           False  2017-11-22 22:30:42.143    False  \n",
       " 2762970            15.0           False  2017-10-13 13:58:22.862    False  \n",
       " ...                 ...             ...                      ...      ...  \n",
       " 6964458            27.0           False  2018-01-04 15:23:28.409    False  \n",
       " 1400232            12.0           False  2017-09-03 17:46:37.675    False  \n",
       " 3667078            16.0           False  2017-11-02 10:22:09.547    False  \n",
       " 2908978            15.0           False  2017-10-17 00:13:03.537    False  \n",
       " 5373926            25.0            True  2017-12-09 10:21:46.081    False  \n",
       " \n",
       " [25000 rows x 12 columns],\n",
       "                        timestamp  device_id  user_id  server_id  connected  \\\n",
       " 5067673  2017-12-04 03:21:25.333      40874     2359         20      False   \n",
       " 1616965  2017-09-10 22:05:10.209      20872     2518         12      False   \n",
       " 5212970  2017-12-06 19:21:15.674      29259     2359         20       True   \n",
       " 8219874  2018-01-28 23:08:32.873      50167     2359         29      False   \n",
       " 8926993  2018-02-17 08:54:59.068      40775     4087         32       True   \n",
       " ...                          ...        ...      ...        ...        ...   \n",
       " 8751805  2018-02-12 20:51:30.679      20511     1325         30       True   \n",
       " 5024917  2017-12-03 02:47:17.003       9529      168         20      False   \n",
       " 1416538  2017-09-04 08:46:39.433      14666     1889         12      False   \n",
       " 6059998  2017-12-18 05:50:40.175      20685     1325         27       True   \n",
       " 7110452  2018-01-07 10:32:26.948       9529      168         27      False   \n",
       " \n",
       "          id                  created_at             destroyed_at  \\\n",
       " 5067673  20  2017-11-22 16:15:57.285482  2017-12-08 23:35:12.164   \n",
       " 1616965  12  2017-09-03 15:15:13.687021  2017-09-26 16:10:32.688   \n",
       " 5212970  20  2017-11-22 16:15:57.285482  2017-12-08 23:35:12.164   \n",
       " 8219874  29  2018-01-12 17:01:54.553283  2018-02-12 15:06:52.974   \n",
       " 8926993  32   2018-02-16 22:42:16.20626  2018-02-26 15:52:07.692   \n",
       " ...      ..                         ...                      ...   \n",
       " 8751805  30  2018-02-12 15:07:02.002169  2018-02-16 12:55:57.376   \n",
       " 5024917  20  2017-11-22 16:15:57.285482  2017-12-08 23:35:12.164   \n",
       " 1416538  12  2017-09-03 15:15:13.687021  2017-09-26 16:10:32.688   \n",
       " 6059998  27  2017-12-13 17:03:53.912771  2018-01-08 13:18:51.058   \n",
       " 7110452  27  2017-12-13 17:03:53.912771  2018-01-08 13:18:51.058   \n",
       " \n",
       "          prev_server_id  prev_connected           prev_timestamp  ignored  \n",
       " 5067673            20.0            True  2017-12-04 03:20:15.211    False  \n",
       " 1616965            12.0            True  2017-09-10 22:04:09.862    False  \n",
       " 5212970            20.0           False  2017-12-06 19:21:05.293    False  \n",
       " 8219874            29.0            True  2018-01-28 23:08:14.507    False  \n",
       " 8926993            32.0           False  2018-02-17 08:54:36.194    False  \n",
       " ...                 ...             ...                      ...      ...  \n",
       " 8751805            30.0           False  2018-02-12 20:47:20.539    False  \n",
       " 5024917            20.0            True  2017-12-03 02:47:04.861    False  \n",
       " 1416538            12.0            True  2017-09-04 08:44:14.353    False  \n",
       " 6059998            27.0           False  2017-12-18 05:50:26.716    False  \n",
       " 7110452            27.0            True  2018-01-07 10:32:14.908    False  \n",
       " \n",
       " [25000 rows x 12 columns]]"
      ]
     },
     "execution_count": 123,
     "metadata": {},
     "output_type": "execute_result"
    }
   ],
   "source": [
    "df_split"
   ]
  },
  {
   "cell_type": "code",
   "execution_count": 120,
   "metadata": {},
   "outputs": [
    {
     "name": "stderr",
     "output_type": "stream",
     "text": [
      "Process ForkPoolWorker-21:\n",
      "Process ForkPoolWorker-22:\n",
      "Process ForkPoolWorker-24:\n",
      "Process ForkPoolWorker-23:\n",
      "Traceback (most recent call last):\n",
      "Traceback (most recent call last):\n",
      "Traceback (most recent call last):\n",
      "Traceback (most recent call last):\n"
     ]
    },
    {
     "ename": "KeyboardInterrupt",
     "evalue": "",
     "output_type": "error",
     "traceback": [
      "\u001b[0;31m---------------------------------------------------------------------------\u001b[0m",
      "\u001b[0;31mKeyboardInterrupt\u001b[0m                         Traceback (most recent call last)",
      "\u001b[0;32m<ipython-input-120-eb99e6ae2e10>\u001b[0m in \u001b[0;36m<module>\u001b[0;34m\u001b[0m\n\u001b[1;32m      1\u001b[0m \u001b[0;32mwith\u001b[0m \u001b[0mPool\u001b[0m\u001b[0;34m(\u001b[0m\u001b[0;36m4\u001b[0m\u001b[0;34m)\u001b[0m \u001b[0;32mas\u001b[0m \u001b[0mpool\u001b[0m\u001b[0;34m:\u001b[0m\u001b[0;34m\u001b[0m\u001b[0;34m\u001b[0m\u001b[0m\n\u001b[1;32m      2\u001b[0m     \u001b[0mresults\u001b[0m \u001b[0;34m=\u001b[0m \u001b[0mpool\u001b[0m\u001b[0;34m.\u001b[0m\u001b[0mmap_async\u001b[0m\u001b[0;34m(\u001b[0m\u001b[0mprocess_dataframe\u001b[0m\u001b[0;34m,\u001b[0m \u001b[0mtest\u001b[0m\u001b[0;34m)\u001b[0m\u001b[0;34m\u001b[0m\u001b[0;34m\u001b[0m\u001b[0m\n\u001b[0;32m----> 3\u001b[0;31m     \u001b[0ml\u001b[0m \u001b[0;34m=\u001b[0m \u001b[0mresults\u001b[0m\u001b[0;34m.\u001b[0m\u001b[0mget\u001b[0m\u001b[0;34m(\u001b[0m\u001b[0;34m)\u001b[0m\u001b[0;34m\u001b[0m\u001b[0;34m\u001b[0m\u001b[0m\n\u001b[0m",
      "\u001b[0;32m~/opt/anaconda3/lib/python3.7/multiprocessing/pool.py\u001b[0m in \u001b[0;36mget\u001b[0;34m(self, timeout)\u001b[0m\n\u001b[1;32m    649\u001b[0m \u001b[0;34m\u001b[0m\u001b[0m\n\u001b[1;32m    650\u001b[0m     \u001b[0;32mdef\u001b[0m \u001b[0mget\u001b[0m\u001b[0;34m(\u001b[0m\u001b[0mself\u001b[0m\u001b[0;34m,\u001b[0m \u001b[0mtimeout\u001b[0m\u001b[0;34m=\u001b[0m\u001b[0;32mNone\u001b[0m\u001b[0;34m)\u001b[0m\u001b[0;34m:\u001b[0m\u001b[0;34m\u001b[0m\u001b[0;34m\u001b[0m\u001b[0m\n\u001b[0;32m--> 651\u001b[0;31m         \u001b[0mself\u001b[0m\u001b[0;34m.\u001b[0m\u001b[0mwait\u001b[0m\u001b[0;34m(\u001b[0m\u001b[0mtimeout\u001b[0m\u001b[0;34m)\u001b[0m\u001b[0;34m\u001b[0m\u001b[0;34m\u001b[0m\u001b[0m\n\u001b[0m\u001b[1;32m    652\u001b[0m         \u001b[0;32mif\u001b[0m \u001b[0;32mnot\u001b[0m \u001b[0mself\u001b[0m\u001b[0;34m.\u001b[0m\u001b[0mready\u001b[0m\u001b[0;34m(\u001b[0m\u001b[0;34m)\u001b[0m\u001b[0;34m:\u001b[0m\u001b[0;34m\u001b[0m\u001b[0;34m\u001b[0m\u001b[0m\n\u001b[1;32m    653\u001b[0m             \u001b[0;32mraise\u001b[0m \u001b[0mTimeoutError\u001b[0m\u001b[0;34m\u001b[0m\u001b[0;34m\u001b[0m\u001b[0m\n",
      "\u001b[0;32m~/opt/anaconda3/lib/python3.7/multiprocessing/pool.py\u001b[0m in \u001b[0;36mwait\u001b[0;34m(self, timeout)\u001b[0m\n\u001b[1;32m    646\u001b[0m \u001b[0;34m\u001b[0m\u001b[0m\n\u001b[1;32m    647\u001b[0m     \u001b[0;32mdef\u001b[0m \u001b[0mwait\u001b[0m\u001b[0;34m(\u001b[0m\u001b[0mself\u001b[0m\u001b[0;34m,\u001b[0m \u001b[0mtimeout\u001b[0m\u001b[0;34m=\u001b[0m\u001b[0;32mNone\u001b[0m\u001b[0;34m)\u001b[0m\u001b[0;34m:\u001b[0m\u001b[0;34m\u001b[0m\u001b[0;34m\u001b[0m\u001b[0m\n\u001b[0;32m--> 648\u001b[0;31m         \u001b[0mself\u001b[0m\u001b[0;34m.\u001b[0m\u001b[0m_event\u001b[0m\u001b[0;34m.\u001b[0m\u001b[0mwait\u001b[0m\u001b[0;34m(\u001b[0m\u001b[0mtimeout\u001b[0m\u001b[0;34m)\u001b[0m\u001b[0;34m\u001b[0m\u001b[0;34m\u001b[0m\u001b[0m\n\u001b[0m\u001b[1;32m    649\u001b[0m \u001b[0;34m\u001b[0m\u001b[0m\n\u001b[1;32m    650\u001b[0m     \u001b[0;32mdef\u001b[0m \u001b[0mget\u001b[0m\u001b[0;34m(\u001b[0m\u001b[0mself\u001b[0m\u001b[0;34m,\u001b[0m \u001b[0mtimeout\u001b[0m\u001b[0;34m=\u001b[0m\u001b[0;32mNone\u001b[0m\u001b[0;34m)\u001b[0m\u001b[0;34m:\u001b[0m\u001b[0;34m\u001b[0m\u001b[0;34m\u001b[0m\u001b[0m\n",
      "\u001b[0;32m~/opt/anaconda3/lib/python3.7/threading.py\u001b[0m in \u001b[0;36mwait\u001b[0;34m(self, timeout)\u001b[0m\n\u001b[1;32m    550\u001b[0m             \u001b[0msignaled\u001b[0m \u001b[0;34m=\u001b[0m \u001b[0mself\u001b[0m\u001b[0;34m.\u001b[0m\u001b[0m_flag\u001b[0m\u001b[0;34m\u001b[0m\u001b[0;34m\u001b[0m\u001b[0m\n\u001b[1;32m    551\u001b[0m             \u001b[0;32mif\u001b[0m \u001b[0;32mnot\u001b[0m \u001b[0msignaled\u001b[0m\u001b[0;34m:\u001b[0m\u001b[0;34m\u001b[0m\u001b[0;34m\u001b[0m\u001b[0m\n\u001b[0;32m--> 552\u001b[0;31m                 \u001b[0msignaled\u001b[0m \u001b[0;34m=\u001b[0m \u001b[0mself\u001b[0m\u001b[0;34m.\u001b[0m\u001b[0m_cond\u001b[0m\u001b[0;34m.\u001b[0m\u001b[0mwait\u001b[0m\u001b[0;34m(\u001b[0m\u001b[0mtimeout\u001b[0m\u001b[0;34m)\u001b[0m\u001b[0;34m\u001b[0m\u001b[0;34m\u001b[0m\u001b[0m\n\u001b[0m\u001b[1;32m    553\u001b[0m             \u001b[0;32mreturn\u001b[0m \u001b[0msignaled\u001b[0m\u001b[0;34m\u001b[0m\u001b[0;34m\u001b[0m\u001b[0m\n\u001b[1;32m    554\u001b[0m \u001b[0;34m\u001b[0m\u001b[0m\n",
      "\u001b[0;32m~/opt/anaconda3/lib/python3.7/threading.py\u001b[0m in \u001b[0;36mwait\u001b[0;34m(self, timeout)\u001b[0m\n\u001b[1;32m    294\u001b[0m         \u001b[0;32mtry\u001b[0m\u001b[0;34m:\u001b[0m    \u001b[0;31m# restore state no matter what (e.g., KeyboardInterrupt)\u001b[0m\u001b[0;34m\u001b[0m\u001b[0;34m\u001b[0m\u001b[0m\n\u001b[1;32m    295\u001b[0m             \u001b[0;32mif\u001b[0m \u001b[0mtimeout\u001b[0m \u001b[0;32mis\u001b[0m \u001b[0;32mNone\u001b[0m\u001b[0;34m:\u001b[0m\u001b[0;34m\u001b[0m\u001b[0;34m\u001b[0m\u001b[0m\n\u001b[0;32m--> 296\u001b[0;31m                 \u001b[0mwaiter\u001b[0m\u001b[0;34m.\u001b[0m\u001b[0macquire\u001b[0m\u001b[0;34m(\u001b[0m\u001b[0;34m)\u001b[0m\u001b[0;34m\u001b[0m\u001b[0;34m\u001b[0m\u001b[0m\n\u001b[0m\u001b[1;32m    297\u001b[0m                 \u001b[0mgotit\u001b[0m \u001b[0;34m=\u001b[0m \u001b[0;32mTrue\u001b[0m\u001b[0;34m\u001b[0m\u001b[0;34m\u001b[0m\u001b[0m\n\u001b[1;32m    298\u001b[0m             \u001b[0;32melse\u001b[0m\u001b[0;34m:\u001b[0m\u001b[0;34m\u001b[0m\u001b[0;34m\u001b[0m\u001b[0m\n",
      "\u001b[0;31mKeyboardInterrupt\u001b[0m: "
     ]
    }
   ],
   "source": [
    "with Pool(4) as pool:\n",
    "    results = pool.map_async(process_dataframe, test)\n",
    "    l = results.get()"
   ]
  },
  {
   "cell_type": "code",
   "execution_count": null,
   "metadata": {},
   "outputs": [],
   "source": [
    "\n",
    "\n",
    "pandarallel.initialize()\n",
    "test.parallel_apply(func, axis=1)"
   ]
  },
  {
   "cell_type": "code",
   "execution_count": null,
   "metadata": {},
   "outputs": [],
   "source": [
    "events_merged['ignored']=events_merged.apply(prepare_final,axis=1)\n",
    "print(events_merged.head())\n",
    "events_merged['day'] = events_merged['timestamp'].dt.date\n",
    "events_grouped = events_merged.groupby('day').count()\n",
    "print(events_grouped)"
   ]
  },
  {
   "cell_type": "code",
   "execution_count": null,
   "metadata": {},
   "outputs": [],
   "source": [
    "print(\"end:{}\".format(datetime.datetime.now()))"
   ]
  }
 ],
 "metadata": {
  "kernelspec": {
   "display_name": "Python 3",
   "language": "python",
   "name": "python3"
  },
  "language_info": {
   "codemirror_mode": {
    "name": "ipython",
    "version": 3
   },
   "file_extension": ".py",
   "mimetype": "text/x-python",
   "name": "python",
   "nbconvert_exporter": "python",
   "pygments_lexer": "ipython3",
   "version": "3.7.4"
  }
 },
 "nbformat": 4,
 "nbformat_minor": 2
}
